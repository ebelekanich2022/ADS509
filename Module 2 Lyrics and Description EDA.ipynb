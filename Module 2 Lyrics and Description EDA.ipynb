{
 "cells": [
  {
   "cell_type": "markdown",
   "id": "7f79baf9",
   "metadata": {},
   "source": [
    "# ADS 509 Assignment 2.1: Tokenization, Normalization, Descriptive Statistics \n",
    "\n",
    "This notebook holds Assignment 2.1 for Module 2 in ADS 509, Applied Text Mining. Work through this notebook, writing code and answering questions where required. \n",
    "\n",
    "In the previous assignment you put together Twitter data and lyrics data on two artists. In this assignment we explore some of the textual features of those data sets. If, for some reason, you did not complete that previous assignment, data to use for this assignment can be found in the assignment materials section of Blackboard. \n",
    "\n",
    "This assignment asks you to write a short function to calculate some descriptive statistics on a piece of text. Then you are asked to find some interesting and unique statistics on your corpora. \n"
   ]
  },
  {
   "cell_type": "markdown",
   "id": "aae8e2e1",
   "metadata": {},
   "source": [
    "## General Assignment Instructions\n",
    "\n",
    "These instructions are included in every assignment, to remind you of the coding standards for the class. Feel free to delete this cell after reading it. \n",
    "\n",
    "One sign of mature code is conforming to a style guide. We recommend the [Google Python Style Guide](https://google.github.io/styleguide/pyguide.html). If you use a different style guide, please include a cell with a link. \n",
    "\n",
    "Your code should be relatively easy-to-read, sensibly commented, and clean. Writing code is a messy process, so please be sure to edit your final submission. Remove any cells that are not needed or parts of cells that contain unnecessary code. Remove inessential `import` statements and make sure that all such statements are moved into the designated cell. \n",
    "\n",
    "Make use of non-code cells for written commentary. These cells should be grammatical and clearly written. In some of these cells you will have questions to answer. The questions will be marked by a \"Q:\" and will have a corresponding \"A:\" spot for you. *Make sure to answer every question marked with a `Q:` for full credit.* \n"
   ]
  },
  {
   "cell_type": "code",
   "execution_count": 7,
   "id": "e2d096b7",
   "metadata": {},
   "outputs": [],
   "source": [
    "import os\n",
    "import re\n",
    "import emoji\n",
    "import pandas as pd\n",
    "import numpy as np\n",
    "\n",
    "from collections import Counter, defaultdict\n",
    "from nltk.corpus import stopwords\n",
    "from string import punctuation\n",
    "\n",
    "sw = stopwords.words(\"english\")"
   ]
  },
  {
   "cell_type": "code",
   "execution_count": 8,
   "id": "23ac5c45",
   "metadata": {},
   "outputs": [
    {
     "data": {
      "text/plain": [
       "True"
      ]
     },
     "execution_count": 8,
     "metadata": {},
     "output_type": "execute_result"
    }
   ],
   "source": [
    "emoji.is_emoji(\"❤️\")"
   ]
  },
  {
   "cell_type": "code",
   "execution_count": 9,
   "id": "923b5a86",
   "metadata": {},
   "outputs": [],
   "source": [
    "# change `data_location` to the location of the folder on your machine.\n",
    "data_location = \"M1 Results/\"\n",
    "\n",
    "# These subfolders should still work if you correctly stored the \n",
    "# data from the Module 1 assignment\n",
    "twitter_folder = \"twitter/\"\n",
    "lyrics_folder = \"lyrics/\""
   ]
  },
  {
   "cell_type": "code",
   "execution_count": 10,
   "id": "06522af9",
   "metadata": {},
   "outputs": [],
   "source": [
    "def descriptive_stats(tokens, num_tokens = 5, verbose=True) :\n",
    "    \"\"\"\n",
    "        Given a list of tokens, print number of tokens, number of unique tokens, \n",
    "        number of characters, lexical diversity (https://en.wikipedia.org/wiki/Lexical_diversity), \n",
    "        and num_tokens most common tokens. Return a list with the number of tokens, number\n",
    "        of unique tokens, lexical diversity, and number of characters. \n",
    "    \n",
    "    \"\"\"\n",
    "\n",
    "    # Fill in the correct values here. \n",
    "    num_tokens = len(tokens)\n",
    "    num_unique_tokens = len(set(tokens))\n",
    "    lexical_diversity = num_unique_tokens / num_tokens\n",
    "    num_characters = len(\"\".join(tokens))\n",
    "    \n",
    "    if verbose :        \n",
    "        print(f\"There are {num_tokens} tokens in the data.\")\n",
    "        print(f\"There are {num_unique_tokens} unique tokens in the data.\")\n",
    "        print(f\"There are {num_characters} characters in the data.\")\n",
    "        print(f\"The lexical diversity is {lexical_diversity:.3f} in the data.\")\n",
    "    \n",
    "        # print the five most common tokens\n",
    "        print(\"The five most common tokens are: \", Counter(tokens).most_common(5))\n",
    "        \n",
    "    return([num_tokens, num_unique_tokens,\n",
    "            lexical_diversity,\n",
    "            num_characters])\n",
    "    "
   ]
  },
  {
   "cell_type": "code",
   "execution_count": 11,
   "id": "59dcf058",
   "metadata": {},
   "outputs": [
    {
     "name": "stdout",
     "output_type": "stream",
     "text": [
      "There are 13 tokens in the data.\n",
      "There are 9 unique tokens in the data.\n",
      "There are 55 characters in the data.\n",
      "The lexical diversity is 0.692 in the data.\n",
      "The five most common tokens are:  [('text', 3), ('here', 2), ('example', 2), ('is', 1), ('some', 1)]\n"
     ]
    }
   ],
   "source": [
    "text = \"\"\"here is some example text with other example text here in this text\"\"\".split()\n",
    "\n",
    "assert(descriptive_stats(text, verbose=True)[0] == 13)\n",
    "assert(descriptive_stats(text, verbose=False)[1] == 9)\n",
    "assert(abs(descriptive_stats(text, verbose=False)[2] - 0.69) < 0.02)\n",
    "assert(descriptive_stats(text, verbose=False)[3] == 55)\n"
   ]
  },
  {
   "cell_type": "markdown",
   "id": "d2e7e1a2",
   "metadata": {},
   "source": [
    "Q: Why is it beneficial to use assertion statements in your code? \n",
    "\n",
    "A: helps find errors in the code. This is helpful to catch any logical flaws with the program prior to deployment."
   ]
  },
  {
   "cell_type": "markdown",
   "id": "9d3bf93e",
   "metadata": {},
   "source": [
    "## Data Input\n",
    "\n",
    "Now read in each of the corpora. For the lyrics data, it may be convenient to store the entire contents of the file to make it easier to inspect the titles individually, as you'll do in the last part of the assignment. In the solution, I stored the lyrics data in a dictionary with two dimensions of keys: artist and song. The value was the file contents. A data frame would work equally well. \n",
    "\n",
    "For the Twitter data, we only need the description field for this assignment. Feel free all the descriptions read it into a data structure. In the solution, I stored the descriptions as a dictionary of lists, with the key being the artist. \n",
    "\n",
    "\n"
   ]
  },
  {
   "cell_type": "code",
   "execution_count": 12,
   "id": "37d70801",
   "metadata": {},
   "outputs": [],
   "source": [
    "# Read in the lyrics data\n",
    "\n",
    "artist_folders = os.listdir(data_location + lyrics_folder)\n",
    "\n",
    "artist_lyrics_d = dict()\n",
    "\n",
    "for artist in artist_folders :\n",
    "    \n",
    "    artist_lyrics_d[artist] = dict()\n",
    "    \n",
    "    artist_files = os.listdir(data_location + lyrics_folder + artist)\n",
    "    \n",
    "    for f_name in artist_files:\n",
    "        \n",
    "        # I stored the lyrics data in a dictionary with \n",
    "        # two dimensions of keys: artist and song. \n",
    "        # The value was the file contents. \n",
    "        with open(data_location + lyrics_folder + artist + \"/\" + f_name) as infile : \n",
    "            \n",
    "            file_contents = infile.read()\n",
    "            artist_lyrics_d[artist][f_name] = file_contents\n",
    "\n"
   ]
  },
  {
   "cell_type": "code",
   "execution_count": 13,
   "id": "debcac5a",
   "metadata": {},
   "outputs": [],
   "source": [
    "# Read in the twitter data\n",
    "\n",
    "twitter_files = os.listdir(data_location + twitter_folder)\n",
    "\n",
    "# we need this part in order to skip the \".DS_Store\" file\n",
    "twitter_files = [f for f in twitter_files if f != \".DS_Store\"]\n",
    "\n",
    "# we need this part because only need the files that contain follower data\n",
    "twitter_files = [f for f in twitter_files if \"data\" in f]\n",
    "\n",
    "artist_twitter_d = dict()\n",
    "\n",
    "for file in twitter_files:\n",
    "    \n",
    "    # print(data_location + twitter_folder + file)\n",
    "    \n",
    "    # extract the artist name from filename\n",
    "    artist_name = file.split(\"_\")[0]\n",
    "    \n",
    "    with open(data_location + twitter_folder + file, 'r', encoding = \"utf-8\") as infile :\n",
    "        \n",
    "        # check the headers\n",
    "        headers = infile.readline().split(\"\\t\")\n",
    "        \n",
    "        # print(headers)\n",
    "        \n",
    "        descriptions = []\n",
    "        # locations = set()\n",
    "        \n",
    "        for idx, line in enumerate(infile.readlines()) :\n",
    "            \n",
    "            line = line.strip(\"\\n\").split(\"\\t\")\n",
    "            # print(line)\n",
    "            \n",
    "            try : \n",
    "                # locations.add(line[3])\n",
    "                # print(line[6])\n",
    "                descriptions.append([line[6]])\n",
    "            except :\n",
    "                pass\n",
    "            \n",
    "    artist_twitter_d[artist_name] = descriptions\n",
    "    \n"
   ]
  },
  {
   "cell_type": "markdown",
   "id": "6a5f3b12",
   "metadata": {},
   "source": [
    "## Data Cleaning\n",
    "\n",
    "Now clean and tokenize your data. Remove punctuation characters (available in the `punctuation` object in the `string` library), split on whitespace, fold to lowercase, and remove stopwords. Store your cleaned data, which must be accessible as an interable for `descriptive_stats`, in new objects or in new columns in your data frame. \n",
    "\n"
   ]
  },
  {
   "cell_type": "code",
   "execution_count": 14,
   "id": "71c73d86",
   "metadata": {},
   "outputs": [],
   "source": [
    "punctuation = set(punctuation) # speeds up comparison"
   ]
  },
  {
   "cell_type": "code",
   "execution_count": 95,
   "id": "b327033a",
   "metadata": {},
   "outputs": [],
   "source": [
    "# create your clean twitter data here\n",
    "artist_tw_data = dict()\n",
    "\n",
    "for artist in artist_twitter_d:\n",
    "    \n",
    "    artist_tw_data[artist] = dict()\n",
    "    artist_tw_data[artist][\"twitter\"] = []\n",
    "\n",
    "    for desc_list in artist_twitter_d[artist]:\n",
    "\n",
    "        for desc in desc_list:\n",
    "            # if there is a twitter description!\n",
    "            if desc != \"\":\n",
    "                # fold to lowercase\n",
    "                lwr_desc = desc.lower()\n",
    "\n",
    "                # split on whitespace\n",
    "                tw_tokens = lwr_desc.split()\n",
    "                # print(tw_tokens)\n",
    "\n",
    "                tw_tokens_no_punc = []\n",
    "\n",
    "                # remove punctuations\n",
    "                for tw_token in tw_tokens:\n",
    "                    if tw_token not in punctuation:\n",
    "                        # print(tw_token)\n",
    "                        tw_token = tw_token.replace(\",\",\"\")\n",
    "                        tw_token = tw_token.replace('\"','')\n",
    "                        tw_token = tw_token.replace('(','')\n",
    "                        tw_token = tw_token.replace(')','')\n",
    "                        tw_token = tw_token.replace('[','')\n",
    "                        tw_token = tw_token.replace('.','')\n",
    "                        tw_token = tw_token.replace(']','')\n",
    "                        tw_token = tw_token.replace('?','')\n",
    "                        tw_tokens_no_punc.append(tw_token)\n",
    "\n",
    "                tokens_no_sw = [t for t in tw_tokens_no_punc if not t in sw]\n",
    "                \n",
    "                artist_tw_data[artist][\"twitter\"].extend(tokens_no_sw)\n"
   ]
  },
  {
   "cell_type": "code",
   "execution_count": 102,
   "id": "e0f22e10",
   "metadata": {},
   "outputs": [],
   "source": [
    "# create your clean lyrics data here\n",
    "# Now clean and tokenize your data.\n",
    "\n",
    "artist_data = dict()\n",
    "\n",
    "for artist in artist_lyrics_d:\n",
    "    \n",
    "    artist_data[artist] = dict()\n",
    "    artist_data[artist][\"lyrics\"] = []\n",
    "    \n",
    "    for song in artist_lyrics_d[artist]:\n",
    "        \n",
    "        lyrics_text = artist_lyrics_d[artist][song]\n",
    "    \n",
    "        # fold to lowercase\n",
    "        text_lower = lyrics_text.lower()\n",
    "\n",
    "        # split on whitespace\n",
    "        tokens = text_lower.split()\n",
    "\n",
    "        # remove punctuations\n",
    "        # punctuation_set = set(punctuation) \n",
    "\n",
    "        tokens_no_punc = []\n",
    "\n",
    "        for token in tokens:\n",
    "            if token not in punctuation:\n",
    "                token = token.replace(\",\",\"\")\n",
    "                token = token.replace('\"','')\n",
    "                token = token.replace('(','')\n",
    "                token = token.replace(')','')\n",
    "                token = token.replace('[','')\n",
    "                token = token.replace(']','')\n",
    "                token = token.replace('?','')\n",
    "                token = token.replace('...','')\n",
    "                tokens_no_punc.append(token)\n",
    "\n",
    "        # remove the stopwords\n",
    "\n",
    "        tokens_no_sw = [token for token in tokens_no_punc if not token in sw]\n",
    "        \n",
    "        artist_data[artist][\"lyrics\"].extend(tokens_no_sw)\n",
    "        "
   ]
  },
  {
   "cell_type": "markdown",
   "id": "f2dd0179",
   "metadata": {},
   "source": [
    "## Basic Descriptive Statistics\n",
    "\n",
    "Call your `descriptive_stats` function on both your lyrics data and your twitter data and for both artists (four total calls). "
   ]
  },
  {
   "cell_type": "code",
   "execution_count": 104,
   "id": "f0bbedd9",
   "metadata": {},
   "outputs": [
    {
     "name": "stdout",
     "output_type": "stream",
     "text": [
      "There are 34799 tokens in the data.\n",
      "There are 3880 unique tokens in the data.\n",
      "There are 170557 characters in the data.\n",
      "The lexical diversity is 0.111 in the data.\n",
      "The five most common tokens are:  [('love', 1004), (\"i'm\", 513), ('know', 482), ('time', 319), ('baby', 318)]\n",
      "There are 15801243 tokens in the data.\n",
      "There are 1740687 unique tokens in the data.\n",
      "There are 95600077 characters in the data.\n",
      "The lexical diversity is 0.110 in the data.\n",
      "The five most common tokens are:  [('love', 210822), ('life', 113146), (\"i'm\", 100516), ('music', 84111), ('de', 72890)]\n",
      "There are 14724 tokens in the data.\n",
      "There are 2213 unique tokens in the data.\n",
      "There are 72916 characters in the data.\n",
      "The lexical diversity is 0.150 in the data.\n",
      "The five most common tokens are:  [('know', 308), (\"i'm\", 298), ('love', 273), ('got', 251), ('like', 232)]\n",
      "There are 1509524 tokens in the data.\n",
      "There are 284143 unique tokens in the data.\n",
      "There are 9403524 characters in the data.\n",
      "The lexical diversity is 0.188 in the data.\n",
      "The five most common tokens are:  [('music', 14399), ('love', 11411), ('och', 7920), (\"i'm\", 7023), ('life', 6836)]\n"
     ]
    },
    {
     "data": {
      "text/plain": [
       "[1509524, 284143, 0.188233509371166, 9403524]"
      ]
     },
     "execution_count": 104,
     "metadata": {},
     "output_type": "execute_result"
    }
   ],
   "source": [
    "# calls to descriptive_stats here\n",
    "descriptive_stats(artist_data[\"cher\"][\"lyrics\"], verbose=True)\n",
    "descriptive_stats(artist_tw_data[\"cher\"][\"twitter\"], verbose=True)\n",
    "descriptive_stats(artist_data[\"robyn\"][\"lyrics\"], verbose=True)\n",
    "descriptive_stats(artist_tw_data[\"robynkonichiwa\"][\"twitter\"], verbose=True)"
   ]
  },
  {
   "cell_type": "markdown",
   "id": "46294409",
   "metadata": {},
   "source": [
    "Q: How do you think the \"top 5 words\" would be different if we left stopwords in the data? \n",
    "\n",
    "A: If we do not remove the stopwords, all 5 top words would stopwords because they are the most often encountered in any of the sentences.\n",
    "\n",
    "---\n",
    "\n",
    "Q: What were your prior beliefs about the lexical diversity between the artists? Does the difference (or lack thereof) in lexical diversity between the artists conform to your prior beliefs? \n",
    "\n",
    "A: The lexical diversity as far as song lyrics are: (cher) 0.111 and robynkonichiwa (0.150) shows that robynkonichiwa has slightly more lexical diversity in her songs. But do not have any prior beliefs about them to begin with.\n"
   ]
  },
  {
   "cell_type": "markdown",
   "id": "4d4e1ac1",
   "metadata": {},
   "source": [
    "\n",
    "## Specialty Statistics\n",
    "\n",
    "The descriptive statistics we have calculated are quite generic. You will now calculate a handful of statistics tailored to these data.\n",
    "\n",
    "1. Ten most common emojis by artist in the twitter descriptions.\n",
    "1. Ten most common hashtags by artist in the twitter descriptions.\n",
    "1. Five most common words in song titles by artist. \n",
    "1. For each artist, a histogram of song lengths (in terms of number of tokens) \n",
    "\n",
    "We can use the `emoji` library to help us identify emojis and you have been given a function to help you.\n"
   ]
  },
  {
   "cell_type": "code",
   "execution_count": 110,
   "id": "753a5a3e",
   "metadata": {},
   "outputs": [],
   "source": [
    "def is_emoji(s):\n",
    "    return(emoji.is_emoji(s))\n",
    "\n",
    "\n",
    "assert(is_emoji(\"❤️\"))\n",
    "assert(not is_emoji(\":-)\"))"
   ]
  },
  {
   "cell_type": "markdown",
   "id": "986fc4c0",
   "metadata": {},
   "source": [
    "### Emojis 😁\n",
    "\n",
    "What are the ten most common emojis by artist in the twitter descriptions? \n"
   ]
  },
  {
   "cell_type": "code",
   "execution_count": 120,
   "id": "636c6854",
   "metadata": {},
   "outputs": [
    {
     "name": "stdout",
     "output_type": "stream",
     "text": [
      "The 10 most common Emojis for cher are:  [('❤', 79223), ('🌈', 47549), ('♥', 33978), ('🏳', 33412), ('✨', 29468), ('💙', 21379), ('🏻', 20930), ('🌊', 20223), ('✌', 16773), ('💜', 16550)]\n",
      "The 10 most common Emojis for robynkonichiwa are:  [('❤', 4783), ('🌈', 4685), ('🏳', 3528), ('♥', 3103), ('✨', 2223), ('🏻', 1495), ('✌', 1189), ('🏼', 1139), ('♀', 836), ('💙', 809)]\n"
     ]
    }
   ],
   "source": [
    "\n",
    "for artist in artist_tw_data:\n",
    "\n",
    "    emoji_list = []\n",
    "\n",
    "    for tw_tok in artist_tw_data[artist][\"twitter\"]:\n",
    "\n",
    "        for char in tw_tok:\n",
    "\n",
    "            if is_emoji(char):\n",
    "                # print(char)\n",
    "                emoji_list.append(char)\n",
    "\n",
    "    print(f\"The 10 most common Emojis for {artist} are: \", Counter(emoji_list).most_common(10))        \n",
    "        \n",
    "    "
   ]
  },
  {
   "cell_type": "markdown",
   "id": "bab9b770",
   "metadata": {},
   "source": [
    "### Hashtags\n",
    "\n",
    "What are the ten most common hashtags by artist in the twitter descriptions? \n"
   ]
  },
  {
   "cell_type": "code",
   "execution_count": 129,
   "id": "07c396f1",
   "metadata": {},
   "outputs": [
    {
     "name": "stdout",
     "output_type": "stream",
     "text": [
      "The 10 most common Hashtags for cher are:  [('#resist', 10368), ('#blm', 9507), ('#blacklivesmatter', 7718), ('#theresistance', 3181), ('#fbr', 3114), ('#resistance', 2741), ('#1', 2363), ('#voteblue', 2044), ('#lgbtq', 1546), ('#music', 1428)]\n",
      "The 10 most common Hashtags for robynkonichiwa are:  [('#blacklivesmatter', 580), ('#blm', 340), ('#music', 286), ('#1', 191), ('#teamfollowback', 124), ('#edm', 107), ('#resist', 80), ('#art', 68), ('#travel', 64), ('#freebritney', 64)]\n"
     ]
    }
   ],
   "source": [
    "# Your code here\n",
    "\n",
    "for artist in artist_tw_data:\n",
    "    \n",
    "    hashtag_list = []\n",
    "\n",
    "    for tw_tok in artist_tw_data[artist][\"twitter\"]:\n",
    "        # print(tw_tok)\n",
    "        if tw_tok.startswith(\"#\"):\n",
    "            # print(tw_tok)\n",
    "            hashtag_list.append(tw_tok)\n",
    "            \n",
    "    print(f\"The 10 most common Hashtags for {artist} are: \", Counter(hashtag_list).most_common(10))  \n",
    "        "
   ]
  },
  {
   "cell_type": "markdown",
   "id": "d10f21d5",
   "metadata": {},
   "source": [
    "### Song Titles\n",
    "\n",
    "What are the five most common words in song titles by artist? The song titles should be on the first line of the lyrics pages, so if you have kept the raw file contents around, you will not need to re-read the data.\n"
   ]
  },
  {
   "cell_type": "code",
   "execution_count": 155,
   "id": "bb69b36b",
   "metadata": {},
   "outputs": [
    {
     "name": "stdout",
     "output_type": "stream",
     "text": [
      "The 5 most common Words in Song Titles for cher are:  [('The', 53), ('You', 40), ('Love', 38), ('I', 32), ('To', 28)]\n",
      "The 5 most common Words in Song Titles for robyn are:  [('Me', 11), ('You', 8), ('The', 8), ('My', 8), ('To', 6)]\n"
     ]
    }
   ],
   "source": [
    "# Your code here\n",
    "\n",
    "for artist in artist_lyrics_d:\n",
    "\n",
    "    title_list = []\n",
    "\n",
    "    for filename in artist_lyrics_d[artist].keys():\n",
    "        # print(filename)\n",
    "\n",
    "        lyrics = artist_lyrics_d[artist][filename]\n",
    "\n",
    "        title = lyrics.split(\"\\n\")[0]\n",
    "\n",
    "        title = title.replace('\"', '')\n",
    "\n",
    "        # print(title)\n",
    "        title_list.extend(title.split())\n",
    "\n",
    "    print(f\"The 5 most common Words in Song Titles for {artist} are: \", Counter(title_list).most_common(5))\n"
   ]
  },
  {
   "cell_type": "markdown",
   "id": "5dd4fd71",
   "metadata": {},
   "source": [
    "### Song Lengths\n",
    "\n",
    "For each artist, a histogram of song lengths (in terms of number of tokens). If you put the song lengths in a data frame with an artist column, matplotlib will make the plotting quite easy. An example is given to help you out. \n"
   ]
  },
  {
   "cell_type": "code",
   "execution_count": 191,
   "id": "805a1e52",
   "metadata": {},
   "outputs": [
    {
     "data": {
      "text/plain": [
       "artist\n",
       "Artist 1    AxesSubplot(0.125,0.125;0.775x0.755)\n",
       "Artist 2    AxesSubplot(0.125,0.125;0.775x0.755)\n",
       "Name: length, dtype: object"
      ]
     },
     "execution_count": 191,
     "metadata": {},
     "output_type": "execute_result"
    },
    {
     "data": {
      "image/png": "[encoded data removed]",
      "text/plain": [
       "<Figure size 432x288 with 1 Axes>"
      ]
     },
     "metadata": {
      "needs_background": "light"
     },
     "output_type": "display_data"
    }
   ],
   "source": [
    "num_replicates = 1000\n",
    "\n",
    "df = pd.DataFrame({\n",
    "    \"artist\" : ['Artist 1'] * num_replicates + ['Artist 2']*num_replicates,\n",
    "    \"length\" : np.concatenate((np.random.poisson(125,num_replicates),np.random.poisson(150,num_replicates)))\n",
    "})\n",
    "\n",
    "df.groupby('artist')['length'].plot(kind=\"hist\",density=True,alpha=0.5,legend=True)"
   ]
  },
  {
   "cell_type": "markdown",
   "id": "8fde9ebb",
   "metadata": {},
   "source": [
    "Since the lyrics may be stored with carriage returns or tabs, it may be useful to have a function that can collapse whitespace, using regular expressions, and be used for splitting. \n",
    "\n",
    "Q: What does the regular expression `'\\s+'` match on? \n",
    "\n",
    "A: \\s indicates 'single whitespace' and the + sign indicated 'one or more items', therefore, s+ indicates 'one or more whitespaces'\n"
   ]
  },
  {
   "cell_type": "code",
   "execution_count": 192,
   "id": "f0e34516",
   "metadata": {},
   "outputs": [],
   "source": [
    "collapse_whitespace = re.compile(r'\\s+')\n",
    "\n",
    "def tokenize_lyrics(lyric) : \n",
    "    \"\"\"strip and split on whitespace\"\"\"\n",
    "    return([item.lower() for item in collapse_whitespace.split(lyric)])"
   ]
  },
  {
   "cell_type": "code",
   "execution_count": 194,
   "id": "2294c440",
   "metadata": {},
   "outputs": [
    {
     "data": {
      "image/png": "[encoded data removed]",
      "text/plain": [
       "<Figure size 432x288 with 1 Axes>"
      ]
     },
     "metadata": {
      "needs_background": "light"
     },
     "output_type": "display_data"
    }
   ],
   "source": [
    "# Your lyric length comparison chart here. \n",
    "df_new = pd.DataFrame()\n",
    "\n",
    "for artist in artist_lyrics_d:\n",
    "    \n",
    "    df_temp = pd.DataFrame()\n",
    "\n",
    "    song_length_list = []\n",
    "\n",
    "    for filename in artist_lyrics_d[artist]:\n",
    "\n",
    "            lyrics = artist_lyrics_d[artist][filename]\n",
    "            # song_length = len(lyrics.split())\n",
    "            song_length = len(tokenize_lyrics(lyrics))\n",
    "            song_length_list.append(song_length)\n",
    "    \n",
    "    df_temp[\"length\"] = song_length_list\n",
    "    df_temp[\"artist\"] = artist\n",
    "    df_new = pd.concat([df_new, df_temp], ignore_index=True)\n",
    "\n",
    "\n",
    "df_new.groupby('artist')['length'].plot(kind=\"hist\",density=True,alpha=0.5,legend=True);\n"
   ]
  },
  {
   "cell_type": "code",
   "execution_count": null,
   "id": "6159fcdd",
   "metadata": {},
   "outputs": [],
   "source": []
  }
 ],
 "metadata": {
  "kernelspec": {
   "display_name": "Python 3",
   "language": "python",
   "name": "python3"
  },
  "language_info": {
   "codemirror_mode": {
    "name": "ipython",
    "version": 3
   },
   "file_extension": ".py",
   "mimetype": "text/x-python",
   "name": "python",
   "nbconvert_exporter": "python",
   "pygments_lexer": "ipython3",
   "version": "3.8.8"
  }
 },
 "nbformat": 4,
 "nbformat_minor": 5
}
