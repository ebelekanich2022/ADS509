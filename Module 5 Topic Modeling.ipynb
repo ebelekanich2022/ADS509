{
 "cells": [
  {
   "cell_type": "markdown",
   "id": "bce2bb89",
   "metadata": {},
   "source": [
    "# ADS 509 Assignment 5.1: Topic Modeling\n",
    "\n",
    "This notebook holds Assignment 5.1 for Module 5 in ADS 509, Applied Text Mining. Work through this notebook, writing code and answering questions where required. \n",
    "\n",
    "In this assignment you will work with a categorical corpus that accompanies `nltk`. You will build the three types of topic models described in Chapter 8 of _Blueprints for Text Analytics using Python_: NMF, LSA, and LDA. You will compare these models to the true categories. \n"
   ]
  },
  {
   "cell_type": "markdown",
   "id": "d87e2c06",
   "metadata": {},
   "source": [
    "## General Assignment Instructions\n",
    "\n",
    "These instructions are included in every assignment, to remind you of the coding standards for the class. Feel free to delete this cell after reading it. \n",
    "\n",
    "One sign of mature code is conforming to a style guide. We recommend the [Google Python Style Guide](https://google.github.io/styleguide/pyguide.html). If you use a different style guide, please include a cell with a link. \n",
    "\n",
    "Your code should be relatively easy-to-read, sensibly commented, and clean. Writing code is a messy process, so please be sure to edit your final submission. Remove any cells that are not needed or parts of cells that contain unnecessary code. Remove inessential `import` statements and make sure that all such statements are moved into the designated cell. \n",
    "\n",
    "Make use of non-code cells for written commentary. These cells should be grammatical and clearly written. In some of these cells you will have questions to answer. The questions will be marked by a \"Q:\" and will have a corresponding \"A:\" spot for you. *Make sure to answer every question marked with a `Q:` for full credit.* \n"
   ]
  },
  {
   "cell_type": "code",
   "execution_count": 132,
   "id": "a85bce08",
   "metadata": {},
   "outputs": [],
   "source": [
    "# These libraries may be useful to you\n",
    "\n",
    "from nltk.corpus import brown\n",
    "\n",
    "import numpy as np\n",
    "import pandas as pd\n",
    "from tqdm.auto import tqdm\n",
    "\n",
    "#import gensim\n",
    "#import gensim.corpora as corpora\n",
    "#from gensim.utils import simple_preprocess\n",
    "#from gensim.models import CoherenceModel,LdaMulticore, Phrases \n",
    "#from gensim.models.phrases import Phraser \n",
    "#from gensim.corpora import Dictionary\n",
    "\n",
    "import pyLDAvis\n",
    "import pyLDAvis.sklearn\n",
    "import pyLDAvis.gensim_models\n",
    "\n",
    "import spacy\n",
    "from sklearn.feature_extraction.text import TfidfVectorizer, CountVectorizer\n",
    "from sklearn.decomposition import NMF, TruncatedSVD, LatentDirichletAllocation\n",
    "\n",
    "from spacy.lang.en.stop_words import STOP_WORDS as stopwords\n",
    "\n",
    "from collections import Counter, defaultdict\n",
    "\n",
    "nlp = spacy.load('en_core_web_sm')\n",
    "\n"
   ]
  },
  {
   "cell_type": "code",
   "execution_count": 133,
   "id": "a218df60",
   "metadata": {},
   "outputs": [],
   "source": [
    "# add any additional libaries you need here\n",
    "\n"
   ]
  },
  {
   "cell_type": "code",
   "execution_count": 134,
   "id": "494de237",
   "metadata": {},
   "outputs": [],
   "source": [
    "# This function comes from the BTAP repo.\n",
    "\n",
    "def display_topics(model, features, no_top_words=5):\n",
    "    for topic, words in enumerate(model.components_):\n",
    "        total = words.sum()\n",
    "        largest = words.argsort()[::-1] # invert sort order\n",
    "        print(\"\\nTopic %02d\" % topic)\n",
    "        for i in range(0, no_top_words):\n",
    "            print(\"  %s (%2.2f)\" % (features[largest[i]], abs(words[largest[i]]*100.0/total)))"
   ]
  },
  {
   "cell_type": "markdown",
   "id": "a30a901c",
   "metadata": {},
   "source": [
    "## Getting to Know the Brown Corpus\n",
    "\n",
    "Let's spend a bit of time getting to know what's in the Brown corpus, our NLTK example of an \"overlapping\" corpus."
   ]
  },
  {
   "cell_type": "code",
   "execution_count": 136,
   "id": "457c59ed",
   "metadata": {},
   "outputs": [
    {
     "name": "stdout",
     "output_type": "stream",
     "text": [
      "For adventure we have 29 articles.\n",
      "For belles_lettres we have 75 articles.\n",
      "For editorial we have 27 articles.\n",
      "For fiction we have 29 articles.\n",
      "For government we have 30 articles.\n",
      "For hobbies we have 36 articles.\n",
      "For humor we have 9 articles.\n",
      "For learned we have 80 articles.\n",
      "For lore we have 48 articles.\n",
      "For mystery we have 24 articles.\n",
      "For news we have 44 articles.\n",
      "For religion we have 17 articles.\n",
      "For reviews we have 17 articles.\n",
      "For romance we have 29 articles.\n",
      "For science_fiction we have 6 articles.\n"
     ]
    }
   ],
   "source": [
    "# categories of articles in Brown corpus\n",
    "for category in brown.categories() :\n",
    "    print(f\"For {category} we have {len(brown.fileids(categories=category))} articles.\")"
   ]
  },
  {
   "cell_type": "markdown",
   "id": "23fb133c",
   "metadata": {},
   "source": [
    "Let's create a dataframe of the articles in of hobbies, editorial, government, news, and romance."
   ]
  },
  {
   "cell_type": "code",
   "execution_count": 137,
   "id": "18f50b9d",
   "metadata": {},
   "outputs": [
    {
     "data": {
      "text/plain": [
       "(166, 3)"
      ]
     },
     "execution_count": 137,
     "metadata": {},
     "output_type": "execute_result"
    }
   ],
   "source": [
    "categories = ['editorial','government','news','romance','hobbies'] \n",
    "\n",
    "category_list = []\n",
    "file_ids = []\n",
    "texts = []\n",
    "\n",
    "for category in categories : \n",
    "    for file_id in brown.fileids(categories=category) :\n",
    "        \n",
    "        # build some lists for a dataframe\n",
    "        category_list.append(category)\n",
    "        file_ids.append(file_id)\n",
    "        \n",
    "        text = brown.words(fileids=file_id)\n",
    "        texts.append(\" \".join(text))\n",
    "\n",
    "        \n",
    "        \n",
    "df = pd.DataFrame()\n",
    "df['category'] = category_list\n",
    "df['id'] = file_ids\n",
    "df['text'] = texts \n",
    "\n",
    "df.shape"
   ]
  },
  {
   "cell_type": "code",
   "execution_count": 138,
   "id": "586f47de",
   "metadata": {},
   "outputs": [],
   "source": [
    "# Let's add some helpful columns on the df\n",
    "df['char_len'] = df['text'].apply(len)\n",
    "df['word_len'] = df['text'].apply(lambda x: len(x.split()))\n"
   ]
  },
  {
   "cell_type": "code",
   "execution_count": 139,
   "id": "2128fd2d",
   "metadata": {},
   "outputs": [
    {
     "data": {
      "image/png": "[encoded data removed]",
      "text/plain": [
       "<Figure size 720x432 with 1 Axes>"
      ]
     },
     "metadata": {
      "needs_background": "light"
     },
     "output_type": "display_data"
    }
   ],
   "source": [
    "%matplotlib inline\n",
    "df.groupby('category').agg({'word_len': 'mean'}).plot.bar(figsize=(10,6));"
   ]
  },
  {
   "cell_type": "markdown",
   "id": "554ffeb5",
   "metadata": {},
   "source": [
    "Now do our TF-IDF and Count vectorizations."
   ]
  },
  {
   "cell_type": "code",
   "execution_count": 140,
   "id": "21a7d247",
   "metadata": {},
   "outputs": [
    {
     "name": "stderr",
     "output_type": "stream",
     "text": [
      "C:\\Users\\victor-pc\\anaconda3\\lib\\site-packages\\sklearn\\feature_extraction\\text.py:396: UserWarning: Your stop_words may be inconsistent with your preprocessing. Tokenizing the stop words generated tokens ['ll', 've'] not in stop_words.\n",
      "  warnings.warn(\n"
     ]
    },
    {
     "data": {
      "text/plain": [
       "(166, 4941)"
      ]
     },
     "execution_count": 140,
     "metadata": {},
     "output_type": "execute_result"
    }
   ],
   "source": [
    "count_text_vectorizer = CountVectorizer(stop_words=stopwords, min_df=5, max_df=0.7)\n",
    "count_text_vectors = count_text_vectorizer.fit_transform(df[\"text\"])\n",
    "count_text_vectors.shape"
   ]
  },
  {
   "cell_type": "code",
   "execution_count": 141,
   "id": "a8ec2027",
   "metadata": {},
   "outputs": [],
   "source": [
    "feat_names = count_text_vectorizer.get_feature_names_out()\n",
    "\n",
    "df_count_text = pd.DataFrame.sparse.from_spmatrix(count_text_vectors, columns=feat_names)\n",
    "\n",
    "# df_count_text"
   ]
  },
  {
   "cell_type": "code",
   "execution_count": 142,
   "id": "875deba9",
   "metadata": {},
   "outputs": [
    {
     "name": "stderr",
     "output_type": "stream",
     "text": [
      "C:\\Users\\victor-pc\\anaconda3\\lib\\site-packages\\sklearn\\feature_extraction\\text.py:396: UserWarning: Your stop_words may be inconsistent with your preprocessing. Tokenizing the stop words generated tokens ['ll', 've'] not in stop_words.\n",
      "  warnings.warn(\n"
     ]
    },
    {
     "data": {
      "text/plain": [
       "(166, 4941)"
      ]
     },
     "execution_count": 142,
     "metadata": {},
     "output_type": "execute_result"
    }
   ],
   "source": [
    "tfidf_text_vectorizer = TfidfVectorizer(stop_words=stopwords, min_df=5, max_df=0.7)\n",
    "tfidf_text_vectors = tfidf_text_vectorizer.fit_transform(df['text'])\n",
    "tfidf_text_vectors.shape"
   ]
  },
  {
   "cell_type": "markdown",
   "id": "a1062b21",
   "metadata": {},
   "source": [
    "Q: What do the two data frames `count_text_vectors` and `tfidf_text_vectors` hold? \n",
    "\n",
    "A: count_text_vectors holds the word frequency in each document, tfidf_text_vectors hold the word importance scaled, TF-IDF (Term Frequency - Inverse Document Frecuency) combining count vectorizer with importance given to more frequent terms, however it adds another calculation where it scales down the importance as well because not always the most frequent word is the most important one in a document "
   ]
  },
  {
   "cell_type": "markdown",
   "id": "f77c3f94",
   "metadata": {},
   "source": [
    "## Fitting a Non-Negative Matrix Factorization Model\n",
    "\n",
    "In this section the code to fit a five-topic NMF model has already been written. This code comes directly from the [BTAP repo](https://github.com/blueprints-for-text-analytics-python/blueprints-text), which will help you tremendously in the coming sections. "
   ]
  },
  {
   "cell_type": "code",
   "execution_count": 143,
   "id": "d28745a3",
   "metadata": {},
   "outputs": [
    {
     "name": "stderr",
     "output_type": "stream",
     "text": [
      "C:\\Users\\victor-pc\\anaconda3\\lib\\site-packages\\sklearn\\decomposition\\_nmf.py:289: FutureWarning: The 'init' value, when 'init=None' and n_components is less than n_samples and n_features, will be changed from 'nndsvd' to 'nndsvda' in 1.1 (renaming of 0.26).\n",
      "  warnings.warn(\n"
     ]
    }
   ],
   "source": [
    "nmf_text_model = NMF(n_components=5, random_state=314)\n",
    "\n",
    "W_text_matrix = nmf_text_model.fit_transform(tfidf_text_vectors)\n",
    "\n",
    "H_text_matrix = nmf_text_model.components_"
   ]
  },
  {
   "cell_type": "code",
   "execution_count": 144,
   "id": "a67185e7",
   "metadata": {},
   "outputs": [
    {
     "name": "stdout",
     "output_type": "stream",
     "text": [
      "\n",
      "Topic 00\n",
      "  mr (0.51)\n",
      "  president (0.45)\n",
      "  kennedy (0.43)\n",
      "  united (0.42)\n",
      "  khrushchev (0.40)\n",
      "\n",
      "Topic 01\n",
      "  said (0.88)\n",
      "  didn (0.46)\n",
      "  ll (0.45)\n",
      "  thought (0.42)\n",
      "  man (0.37)\n",
      "\n",
      "Topic 02\n",
      "  state (0.40)\n",
      "  development (0.36)\n",
      "  tax (0.33)\n",
      "  sales (0.30)\n",
      "  program (0.25)\n",
      "\n",
      "Topic 03\n",
      "  mrs (2.61)\n",
      "  mr (0.78)\n",
      "  said (0.64)\n",
      "  miss (0.52)\n",
      "  car (0.51)\n",
      "\n",
      "Topic 04\n",
      "  game (1.01)\n",
      "  league (0.74)\n",
      "  ball (0.72)\n",
      "  baseball (0.71)\n",
      "  team (0.66)\n"
     ]
    }
   ],
   "source": [
    "display_topics(nmf_text_model, tfidf_text_vectorizer.get_feature_names_out())"
   ]
  },
  {
   "cell_type": "markdown",
   "id": "fee51e9b",
   "metadata": {},
   "source": [
    "Now some work for you to do. Compare the NMF factorization to the original categories from the Brown Corpus.\n",
    "\n",
    "We are interested in the extent to which our NMF factorization agrees or disagrees with the original categories in the corpus. For each topic in your NMF model, tally the Brown categories and interpret the results. \n"
   ]
  },
  {
   "cell_type": "code",
   "execution_count": 146,
   "id": "c076bf75",
   "metadata": {},
   "outputs": [
    {
     "name": "stdout",
     "output_type": "stream",
     "text": [
      "\n",
      "Topic 0:\n",
      "  20 editorial\n",
      "  4 government\n",
      "  8 news\n",
      "\n",
      "Topic 1:\n",
      "  4 editorial\n",
      "  29 romance\n",
      "  8 hobbies\n",
      "\n",
      "Topic 2:\n",
      "  2 editorial\n",
      "  26 government\n",
      "  11 news\n",
      "  26 hobbies\n",
      "\n",
      "Topic 3:\n",
      "  17 news\n",
      "  1 hobbies\n",
      "\n",
      "Topic 4:\n",
      "  1 editorial\n",
      "  8 news\n",
      "  1 hobbies\n"
     ]
    }
   ],
   "source": [
    "# The W Matrix holds the topics as the columns and the documents as rows\n",
    "# we can use this to combine it with the original dataframe that has the category and id\n",
    "\n",
    "w_matrix_df = pd.DataFrame(W_text_matrix)\n",
    "w_matrix_df[\"category\"] = df[\"category\"]\n",
    "w_matrix_df[\"id\"] = df[\"id\"]\n",
    "\n",
    "\n",
    "topic_dictionary = dict()\n",
    "\n",
    "topic_dictionary = {0 : {},\n",
    "                    1 : {},\n",
    "                    2 : {},\n",
    "                    3 : {},\n",
    "                    4 : {}}\n",
    "\n",
    "# Looping over the dataframe (using .iterrows())\n",
    "for index, row in w_matrix_df.iterrows():\n",
    "    \n",
    "    # in order to get the Topic we extract the first 5 values of each row\n",
    "    # then using .argsort() we find the indexes based on size of each value\n",
    "    # then we inverse sort from highest to lowest\n",
    "    # and the document topic is the first of the highest --> largest value is the Topic that document belongs to\n",
    "    document_topic = np.array(row.iloc[0:5]).argsort()[::-1][0]\n",
    "    \n",
    "    # now that we access to that doc category, we can just select it\n",
    "    document_category = row['category'] \n",
    "    \n",
    "    # building the dictionary\n",
    "    if document_category in topic_dictionary[document_topic]:\n",
    "        topic_dictionary[document_topic][document_category] += 1\n",
    "    else:\n",
    "        topic_dictionary[document_topic][document_category] = 1\n",
    "\n",
    "\n",
    "# once dictionary is created, we loop over it to get\n",
    "# the print out of how many categories per Topic\n",
    "for key, dictionary_value in topic_dictionary.items():\n",
    "    \n",
    "    print(f\"\\nTopic {key}:\")\n",
    "    \n",
    "    for category in dictionary_value:\n",
    "        \n",
    "        print(f\"  {dictionary_value[category]} {category}\") \n",
    "        \n",
    "        "
   ]
  },
  {
   "cell_type": "markdown",
   "id": "f8d4e2bc",
   "metadata": {},
   "source": [
    "Q: How does your five-topic NMF model compare to the original Brown categories? \n",
    "\n",
    "A: The five-topic NMF model does well in Topic 0 (Editorial (20)) , Topic 1 (Romance (29)) and Topic 3 (News (17)) where a specific category has most number of occurrences. As for Topic 2 the model has an even number of occurrences for Government and Hobbies, where clearly Topic 2 should've been Government only  and Topic 4 Hobbies.\n"
   ]
  },
  {
   "cell_type": "markdown",
   "id": "82e37cb5",
   "metadata": {},
   "source": [
    "## Fitting an LSA Model\n",
    "\n",
    "In this section, follow the example from the repository and fit an LSA model (called a \"TruncatedSVD\" in `sklearn`). Again fit a five-topic model and compare it to the actual categories in the Brown corpus. Use the TF-IDF vectors for your fit, as above. \n",
    "\n",
    "To be explicit, we are once again interested in the extent to which this LSA factorization agrees or disagrees with the original categories in the corpus. For each topic in your model, tally the Brown categories and interpret the results. \n"
   ]
  },
  {
   "cell_type": "code",
   "execution_count": 147,
   "id": "00b53d3d",
   "metadata": {},
   "outputs": [],
   "source": [
    "# Your code here\n",
    "\n",
    "svd_para_model = TruncatedSVD(n_components = 5, random_state=314)\n",
    "W_svd_para_matrix = svd_para_model.fit_transform(tfidf_text_vectors)\n",
    "H_svd_para_matrix = svd_para_model.components_"
   ]
  },
  {
   "cell_type": "code",
   "execution_count": 148,
   "id": "e4d7b022",
   "metadata": {},
   "outputs": [
    {
     "name": "stdout",
     "output_type": "stream",
     "text": [
      "\n",
      "Topic 0:\n",
      "  27 editorial\n",
      "  30 government\n",
      "  34 news\n",
      "  21 romance\n",
      "  36 hobbies\n",
      "\n",
      "Topic 1:\n",
      "  8 romance\n",
      "\n",
      "Topic 2:\n",
      "\n",
      "Topic 3:\n",
      "  3 news\n",
      "\n",
      "Topic 4:\n",
      "  7 news\n"
     ]
    }
   ],
   "source": [
    "# tallying the Brown categories\n",
    "\n",
    "w_svd_matrix_df = pd.DataFrame(W_svd_para_matrix)\n",
    "w_svd_matrix_df[\"category\"] = df[\"category\"]\n",
    "w_svd_matrix_df[\"id\"] = df[\"id\"]\n",
    "                       \n",
    "topic_dictionary = dict()\n",
    "\n",
    "topic_dictionary = {0 : {}, 1 : {}, 2 : {}, 3 : {}, 4 : {}}\n",
    "\n",
    "for index, row in w_svd_matrix_df.iterrows():\n",
    "    document_topic = np.array(row.iloc[0:5]).argsort()[::-1][0]\n",
    "    document_category = row['category'] \n",
    "\n",
    "    if document_category in topic_dictionary[document_topic]:\n",
    "        topic_dictionary[document_topic][document_category] += 1\n",
    "    else:\n",
    "        topic_dictionary[document_topic][document_category] = 1\n",
    "\n",
    "for key, dictionary_value in topic_dictionary.items():\n",
    "    print(f\"\\nTopic {key}:\")\n",
    "    for category in dictionary_value:\n",
    "        print(f\"  {dictionary_value[category]} {category}\") \n",
    "        "
   ]
  },
  {
   "cell_type": "markdown",
   "id": "4d94d56f",
   "metadata": {},
   "source": [
    "Q: How does your five-topic LSA model compare to the original Brown categories? \n",
    "\n",
    "A: For TruncatedSVD almost all categories are being assigned to Topic 0 and does not do well splitting the categories into 5 groups / topics. With Topic 2 not being assigned any of the documents. "
   ]
  },
  {
   "cell_type": "code",
   "execution_count": 149,
   "id": "377a886e",
   "metadata": {},
   "outputs": [
    {
     "name": "stdout",
     "output_type": "stream",
     "text": [
      "\n",
      "Topic 00\n",
      "  said (0.44)\n",
      "  mr (0.25)\n",
      "  mrs (0.22)\n",
      "  state (0.20)\n",
      "  man (0.17)\n",
      "\n",
      "Topic 01\n",
      "  said (3.89)\n",
      "  ll (2.73)\n",
      "  didn (2.63)\n",
      "  thought (2.20)\n",
      "  got (1.97)\n",
      "\n",
      "Topic 02\n",
      "  mrs (3.12)\n",
      "  mr (1.70)\n",
      "  said (1.06)\n",
      "  kennedy (0.82)\n",
      "  khrushchev (0.77)\n",
      "\n",
      "Topic 03\n",
      "  mrs (29.45)\n",
      "  club (6.53)\n",
      "  game (6.12)\n",
      "  jr (5.60)\n",
      "  university (5.20)\n",
      "\n",
      "Topic 04\n",
      "  game (4.54)\n",
      "  league (3.27)\n",
      "  baseball (3.22)\n",
      "  ball (3.10)\n",
      "  team (2.94)\n"
     ]
    }
   ],
   "source": [
    "# call display_topics on your model\n",
    "display_topics(svd_para_model, tfidf_text_vectorizer.get_feature_names_out())"
   ]
  },
  {
   "cell_type": "markdown",
   "id": "ea8b280a",
   "metadata": {},
   "source": [
    "Q: What is your interpretation of the display topics output? \n",
    "\n",
    "A: Topic 04's top-words are hobby-related words, but the W-matrix produced by the SVD model assigns the highest value to Topic 01 in general. After further inspection by running the display_topics with 20 top_words (instead of 5) we can see some small but important differences in the words select by SVD vs NMF, with the government-related word \"krushchev\" appearing in the SVD model as one of the top words for Topic 04. This deviation is probably what is changing the total weight given to Hobbies category documents."
   ]
  },
  {
   "cell_type": "markdown",
   "id": "b4ab4d29",
   "metadata": {},
   "source": [
    "## Fitting an LDA Model\n",
    "\n",
    "Finally, fit a five-topic LDA model using the count vectors (`count_text_vectors` from above). Display the results using `pyLDAvis.display` and describe what you learn from that visualization. "
   ]
  },
  {
   "cell_type": "code",
   "execution_count": 150,
   "id": "802cb8ff",
   "metadata": {},
   "outputs": [],
   "source": [
    "# Fit your LDA model here\n",
    "\n",
    "lda_para_model = LatentDirichletAllocation(n_components = 5, random_state=314)\n",
    "W_lda_para_matrix = lda_para_model.fit_transform(count_text_vectors)\n",
    "H_lda_para_matrix = lda_para_model.components_"
   ]
  },
  {
   "cell_type": "code",
   "execution_count": 151,
   "id": "ab18adf5",
   "metadata": {},
   "outputs": [
    {
     "name": "stdout",
     "output_type": "stream",
     "text": [
      "\n",
      "Topic 00\n",
      "  said (1.05)\n",
      "  mrs (0.82)\n",
      "  little (0.56)\n",
      "  good (0.51)\n",
      "  way (0.50)\n",
      "\n",
      "Topic 01\n",
      "  state (0.67)\n",
      "  development (0.63)\n",
      "  000 (0.57)\n",
      "  program (0.48)\n",
      "  business (0.44)\n",
      "\n",
      "Topic 02\n",
      "  said (1.18)\n",
      "  mr (0.72)\n",
      "  president (0.51)\n",
      "  city (0.43)\n",
      "  state (0.37)\n",
      "\n",
      "Topic 03\n",
      "  feed (0.55)\n",
      "  college (0.54)\n",
      "  general (0.44)\n",
      "  university (0.43)\n",
      "  work (0.37)\n",
      "\n",
      "Topic 04\n",
      "  states (1.14)\n",
      "  state (1.02)\n",
      "  united (0.84)\n",
      "  shall (0.66)\n",
      "  government (0.61)\n"
     ]
    }
   ],
   "source": [
    "# Call `display_topics` on your fitted model here\n",
    "display_topics(lda_para_model, count_text_vectorizer.get_feature_names_out())"
   ]
  },
  {
   "cell_type": "code",
   "execution_count": 152,
   "id": "0b7a5665",
   "metadata": {},
   "outputs": [
    {
     "name": "stdout",
     "output_type": "stream",
     "text": [
      "\n",
      "Topic 0:\n",
      "  3 editorial\n",
      "  1 government\n",
      "  4 news\n",
      "  28 romance\n",
      "  11 hobbies\n",
      "\n",
      "Topic 1:\n",
      "  1 editorial\n",
      "  12 government\n",
      "  3 news\n",
      "  9 hobbies\n",
      "\n",
      "Topic 2:\n",
      "  21 editorial\n",
      "  3 government\n",
      "  32 news\n",
      "  1 romance\n",
      "  2 hobbies\n",
      "\n",
      "Topic 3:\n",
      "  2 editorial\n",
      "  4 government\n",
      "  3 news\n",
      "  8 hobbies\n",
      "\n",
      "Topic 4:\n",
      "  10 government\n",
      "  2 news\n",
      "  6 hobbies\n"
     ]
    }
   ],
   "source": [
    "# tallying the Brown categories\n",
    "\n",
    "w_lda_matrix_df = pd.DataFrame(W_lda_para_matrix)\n",
    "w_lda_matrix_df[\"category\"] = df[\"category\"]\n",
    "w_lda_matrix_df[\"id\"] = df[\"id\"]\n",
    "                       \n",
    "topic_dictionary = dict()\n",
    "\n",
    "topic_dictionary = {0 : {}, 1 : {}, 2 : {}, 3 : {}, 4 : {}}\n",
    "\n",
    "for index, row in w_lda_matrix_df.iterrows():\n",
    "    document_topic = np.array(row.iloc[0:5]).argsort()[::-1][0]\n",
    "    document_category = row['category'] \n",
    "\n",
    "    if document_category in topic_dictionary[document_topic]:\n",
    "        topic_dictionary[document_topic][document_category] += 1\n",
    "    else:\n",
    "        topic_dictionary[document_topic][document_category] = 1\n",
    "\n",
    "for key, dictionary_value in topic_dictionary.items():\n",
    "    print(f\"\\nTopic {key}:\")\n",
    "    for category in dictionary_value:\n",
    "        print(f\"  {dictionary_value[category]} {category}\") \n"
   ]
  },
  {
   "cell_type": "markdown",
   "id": "f2c67876",
   "metadata": {},
   "source": [
    "Q: What inference do you draw from the displayed topics for your LDA model? \n",
    "\n",
    "A: When switching to CountVectorizer instead of TF-IDF Vectorizer the model is giving a bigger informative value to only term frequency, making terms such as \"000\" appear as top-words in some the created topics by the LDA model. This is a drawback of not using TF-IDF. The hobby-related words do not seem to appear as much in any of the created topics\n",
    "\n",
    "Q: Repeat the tallying of Brown categories within your topics. How does your five-topic LDA model compare to the original Brown categories? \n",
    "\n",
    "A: Topic 0 has more occurrences of the \"romance\" category, but the category \"government\" is the occuring the most in two topics (Topic 1 and Topic 4). Another not clearly defined topic is Topic 2 where editorial and news appear very often. And finally Topic 3 has the most occurrences of the Hobbies category, but almost non of the top_20 words are hobby-related words, so it's not clear it this Topic is clearly defined as Hobbies"
   ]
  },
  {
   "cell_type": "code",
   "execution_count": 154,
   "id": "6aae75ca",
   "metadata": {},
   "outputs": [
    {
     "name": "stderr",
     "output_type": "stream",
     "text": [
      "C:\\Users\\victor-pc\\anaconda3\\lib\\site-packages\\sklearn\\utils\\deprecation.py:87: FutureWarning: Function get_feature_names is deprecated; get_feature_names is deprecated in 1.0 and will be removed in 1.2. Please use get_feature_names_out instead.\n",
      "  warnings.warn(msg, category=FutureWarning)\n",
      "C:\\Users\\victor-pc\\anaconda3\\lib\\site-packages\\pyLDAvis\\_prepare.py:246: FutureWarning: In a future version of pandas all arguments of DataFrame.drop except for the argument 'labels' will be keyword-only.\n",
      "  default_term_info = default_term_info.sort_values(\n"
     ]
    }
   ],
   "source": [
    "lda_display = pyLDAvis.sklearn.prepare(lda_para_model, count_text_vectors, count_text_vectorizer, sort_topics=False)"
   ]
  },
  {
   "cell_type": "code",
   "execution_count": 155,
   "id": "2a89fc15",
   "metadata": {},
   "outputs": [
    {
     "data": {
      "text/html": [
       "\n",
       "<link rel=\"stylesheet\" type=\"text/css\" href=\"https://cdn.jsdelivr.net/gh/bmabey/pyLDAvis@3.3.1/pyLDAvis/js/ldavis.v1.0.0.css\">\n",
       "\n",
       "\n",
       "<div id=\"ldavis_el269224474638644642023587347\"></div>\n",
       "<script type=\"text/javascript\">\n",
       "\n",
       "var ldavis_el269224474638644642023587347_data = {\"mdsDat\": {\"x\": [-0.243523033622041, 0.13055719395525966, -0.05665667547392704, 0.041427484839750714, 0.12819503030095766], \"y\": [0.006829720679475191, -0.05588474470164293, 0.03852366287446428, -0.11285215230956108, 0.12338351345726437], \"topics\": [1, 2, 3, 4, 5], \"cluster\": [1, 1, 1, 1, 1], \"Freq\": [22.896957296534517, 20.43196854284173, 32.00626407252679, 12.368825612931994, 12.29598447516496]}, \"tinfo\": {\"Term\": [\"states\", \"state\", \"said\", \"mrs\", \"united\", \"shall\", \"development\", \"tax\", \"feed\", \"fiscal\", \"college\", \"government\", \"ll\", \"don\", \"000\", \"university\", \"department\", \"didn\", \"sales\", \"president\", \"rhode\", \"got\", \"equipment\", \"little\", \"mother\", \"class\", \"act\", \"program\", \"system\", \"property\", \"hair\", \"baby\", \"clothes\", \"walls\", \"anne\", \"fig\", \"pale\", \"pink\", \"dry\", \"yellow\", \"entrance\", \"hadn\", \"ham\", \"couldn\", \"frames\", \"fingers\", \"flowers\", \"windows\", \"bride\", \"hell\", \"handsome\", \"coat\", \"cloth\", \"sweet\", \"stared\", \"liked\", \"colored\", \"studio\", \"bed\", \"trees\", \"shelter\", \"mother\", \"looked\", \"clay\", \"wasn\", \"guests\", \"didn\", \"woman\", \"sat\", \"pieces\", \"colors\", \"eyes\", \"drill\", \"mrs\", \"ll\", \"don\", \"thought\", \"room\", \"sun\", \"inch\", \"ve\", \"black\", \"little\", \"knew\", \"went\", \"sure\", \"got\", \"door\", \"look\", \"son\", \"know\", \"said\", \"way\", \"come\", \"came\", \"good\", \"place\", \"away\", \"old\", \"water\", \"right\", \"man\", \"let\", \"life\", \"left\", \"house\", \"day\", \"home\", \"systems\", \"marketing\", \"electronic\", \"boats\", \"missiles\", \"components\", \"aircraft\", \"machine\", \"rhode\", \"assessment\", \"shipments\", \"laboratory\", \"bankers\", \"savings\", \"yield\", \"industrial\", \"forests\", \"compared\", \"machines\", \"procurement\", \"missile\", \"conservation\", \"utility\", \"inventories\", \"polaris\", \"manufacturing\", \"machinery\", \"investment\", \"recreation\", \"banks\", \"property\", \"industry\", \"equipment\", \"sales\", \"radiation\", \"planning\", \"development\", \"medical\", \"providence\", \"billion\", \"system\", \"shares\", \"manufacturers\", \"island\", \"1960\", \"production\", \"1959\", \"products\", \"research\", \"co\", \"range\", \"000\", \"program\", \"business\", \"cost\", \"million\", \"available\", \"state\", \"small\", \"company\", \"national\", \"1961\", \"provide\", \"areas\", \"service\", \"use\", \"military\", \"tax\", \"public\", \"khrushchev\", \"player\", \"rayburn\", \"congo\", \"republican\", \"moscow\", \"southern\", \"baseball\", \"railroad\", \"castro\", \"troops\", \"yards\", \"charter\", \"yankees\", \"premier\", \"alexander\", \"democrats\", \"captain\", \"chinese\", \"coach\", \"laos\", \"gen\", \"cuban\", \"opposition\", \"soviet\", \"katanga\", \"republicans\", \"pope\", \"bombs\", \"robinson\", \"berlin\", \"speaker\", \"communist\", \"democratic\", \"eisenhower\", \"league\", \"mayor\", \"cuba\", \"st\", \"police\", \"yesterday\", \"china\", \"west\", \"monday\", \"race\", \"john\", \"east\", \"kennedy\", \"city\", \"mr\", \"meeting\", \"party\", \"president\", \"said\", \"week\", \"war\", \"political\", \"nations\", \"game\", \"committee\", \"leaders\", \"american\", \"world\", \"york\", \"home\", \"county\", \"man\", \"united\", \"people\", \"house\", \"state\", \"day\", \"old\", \"000\", \"government\", \"men\", \"national\", \"states\", \"school\", \"academic\", \"faculty\", \"trustees\", \"campus\", \"recognition\", \"classical\", \"professors\", \"mathematics\", \"musical\", \"tends\", \"feed\", \"stockholders\", \"fulfill\", \"meat\", \"unions\", \"chemical\", \"motors\", \"prosperity\", \"cattle\", \"prestige\", \"designer\", \"curriculum\", \"clerical\", \"catholic\", \"collective\", \"recorded\", \"appearances\", \"creative\", \"membership\", \"trust\", \"music\", \"chamber\", \"students\", \"student\", \"colleges\", \"teachers\", \"college\", \"engineer\", \"interior\", \"university\", \"daily\", \"pool\", \"schools\", \"education\", \"art\", \"general\", \"anti\", \"members\", \"technical\", \"labor\", \"design\", \"administration\", \"level\", \"work\", \"school\", \"president\", \"problem\", \"board\", \"department\", \"american\", \"good\", \"men\", \"aid\", \"world\", \"high\", \"cousin\", \"rehabilitation\", \"coal\", \"vocational\", \"definition\", \"denied\", \"thereof\", \"bonds\", \"payment\", \"rico\", \"puerto\", \"coordination\", \"filing\", \"adopting\", \"recommendation\", \"calendar\", \"hated\", \"proceedings\", \"commodities\", \"sectors\", \"connections\", \"62\", \"vehicles\", \"allocation\", \"treasury\", \"tractor\", \"adjustments\", \"upstairs\", \"shall\", \"assigned\", \"india\", \"exercise\", \"interference\", \"payments\", \"fiscal\", \"authorized\", \"claim\", \"stations\", \"insurance\", \"claims\", \"class\", \"states\", \"income\", \"return\", \"tax\", \"united\", \"junior\", \"hearing\", \"act\", \"countries\", \"cars\", \"state\", \"agreement\", \"department\", \"government\", \"secretary\", \"officer\", \"section\", \"title\", \"federal\", \"use\", \"service\", \"30\", \"board\", \"services\", \"pay\", \"local\", \"day\"], \"Freq\": [328.0, 485.0, 803.0, 307.0, 298.0, 123.0, 199.0, 172.0, 93.0, 107.0, 120.0, 273.0, 167.0, 178.0, 282.0, 122.0, 153.0, 124.0, 117.0, 297.0, 86.0, 147.0, 105.0, 237.0, 97.0, 97.0, 127.0, 230.0, 142.0, 95.0, 35.26603169767948, 35.25985457287084, 32.34282391715048, 32.33880808918393, 34.234073004331, 31.327619231629434, 26.498517625454486, 25.524771041025005, 23.573236778164105, 25.42713825332056, 21.619428115149045, 30.993044678951456, 19.675700186736563, 51.43981707238504, 20.589733305570014, 17.726312752092973, 23.30504081082283, 16.751973310918494, 17.677966184967996, 15.781789493525478, 15.780666162782092, 15.765038139000248, 14.807347406646524, 14.80685767925678, 14.80652524389837, 14.805562659021426, 15.721341674975067, 14.793031300690531, 34.14874849426119, 27.742455010304493, 57.20416985925251, 90.05985801714506, 78.93387784968832, 75.71076669182483, 53.90723878296295, 29.982839371430043, 108.73073941993054, 50.250850745194825, 34.934191866446334, 48.29752376267048, 27.14174620759286, 83.99183249657624, 31.328311483268084, 234.33243224195647, 134.7368238882843, 142.22532063651968, 113.48998687104918, 84.70739288661429, 47.85107317359339, 58.281643606515374, 69.82209572678235, 54.447334924203076, 159.93873456068238, 71.3290379354529, 100.47914727932289, 70.8073941289151, 101.54763550743199, 56.564345442016105, 89.14937958191942, 57.94278765631486, 112.80221967394912, 300.19157995270075, 143.08214720581626, 108.66785528409198, 97.93192846288184, 146.72016490751113, 107.6369595930096, 81.83857826579666, 125.3325275357798, 93.65427756652964, 105.80662989454596, 122.43392673750719, 76.37882747857944, 81.8560900906336, 81.2583389474528, 87.71132897871955, 85.9510991697221, 84.11085690371303, 37.62033917696881, 41.26043043714822, 26.108504126894108, 38.01490066718646, 22.24099597794043, 21.223514374686594, 54.248483592252704, 50.39470006191913, 82.33814930496469, 17.22632723406701, 13.599502717078908, 16.29088859098538, 10.740632157231785, 17.005387252552133, 15.133342494227227, 72.03843499106009, 14.938223060271437, 24.574363297207974, 28.908173871233423, 17.448867762039566, 36.584742597938344, 7.854789008100244, 11.322258118599576, 6.910963131905762, 6.906977941612577, 18.167211407818062, 30.179415379306587, 24.918058009903863, 32.623931200863595, 16.267831354180654, 85.04409531611354, 85.2307640836172, 92.04061867537708, 102.21030740338115, 31.419941862258174, 72.29354736159601, 160.58456695669346, 84.1222111779402, 39.271013042527755, 47.15352590830219, 110.99031567699471, 32.52656888050945, 35.56961213374268, 88.51387155669484, 93.20958887097932, 63.84974612826229, 50.27196273949969, 49.69605754659326, 72.63469421541058, 46.82621040883035, 53.98496787689069, 144.62866634727155, 123.50896845655268, 113.19861054790827, 73.61038906890624, 79.16133829903036, 74.66204969189833, 169.46520342296054, 100.42960965644956, 76.12853270707224, 92.20105914345157, 67.16061893470122, 66.50125650021158, 62.63129522802681, 86.66947068147986, 95.41631280397974, 65.25389352558292, 67.84173831149415, 65.6136414531933, 73.42554374783131, 48.67768498296599, 46.706427838363304, 43.73337493489192, 39.77817876808449, 37.80010747839435, 34.827228410194266, 39.618770244775114, 32.84180904847271, 29.881397928372593, 26.912817657012983, 26.899591011393003, 27.860295497571638, 25.92561583302565, 24.935202646112877, 24.92786072259936, 23.946196773271854, 23.938724665538558, 22.949710429481584, 22.940661109611263, 49.614781943724154, 21.955319680146992, 20.974708622899183, 20.95696065584778, 78.92743956978492, 19.98234147220939, 19.972841684788598, 19.967439518925563, 18.996535964167784, 18.9945510775681, 63.22425972645926, 40.6606865636951, 70.96278176057123, 59.00465760184135, 38.6466332099793, 57.991204762006866, 43.21771150153898, 36.746255661940815, 71.4753046743268, 44.37915026504144, 58.02965358273144, 32.828237255154974, 96.08418538831445, 58.46515417030857, 40.505659296092894, 142.98368478351708, 83.85420121427471, 111.14875577393491, 172.62353200026368, 287.8781423603009, 84.13213702614429, 92.01772270153538, 205.40634873734808, 470.89022085822495, 140.76265143256, 113.01139950261616, 71.05038233620024, 67.16518889885644, 73.8762020997392, 83.76171945290749, 50.00246714063671, 148.6461501680546, 138.135869625581, 96.83009236355024, 140.02404620727472, 76.833500515533, 129.5803754748476, 125.62152536157633, 118.36210204722803, 110.56501449328147, 148.8451794619121, 119.600712436424, 108.76991140081137, 105.3053680375775, 99.5216494770641, 90.4656178111905, 91.57849254494391, 96.15786407278667, 83.8443699495076, 27.814826569302777, 48.93684709004372, 18.503509985385982, 14.879468477087567, 15.473941152164262, 9.37335260705387, 8.429864173735863, 7.546272419664456, 18.41492046315916, 7.518959799427078, 84.44155436104494, 18.268486568333184, 6.622128289059266, 19.541713824662395, 18.58713025433579, 23.146111999202645, 38.25197181315942, 4.7732886786824755, 17.381566736920437, 10.238816773832234, 14.802706325018887, 7.011676741661524, 4.663272913791561, 25.479595882436058, 10.014582060857434, 7.58239815891869, 4.540015041328891, 12.853649254073659, 19.425628383036642, 29.70697872347501, 46.825010878350916, 21.450400541392447, 52.9943684019594, 54.955281373609395, 16.31100829518633, 25.62073069822359, 83.62014229714042, 24.941675902345807, 28.633459492336446, 67.01241734256317, 33.331261741899894, 43.627376544117105, 49.32037920830871, 46.41828570415941, 34.85619603196494, 67.66899625921991, 32.103813511591746, 51.623028144456, 31.17793699600286, 33.89549304217456, 35.04082063901766, 44.49327955892524, 35.22883442674144, 56.48861252778279, 47.16711951156521, 55.68778966133573, 39.64150536052191, 42.71566054538729, 38.01482404768259, 43.01510978367216, 42.90256178570254, 38.25715440917902, 34.06878160168555, 37.628796504513915, 34.84607073269723, 24.8953817391179, 17.608710471055904, 22.617152720693483, 12.988354717680892, 12.081651178952153, 17.255761258059298, 11.043916669732495, 28.504391307942186, 36.751871727233556, 17.292619041590697, 17.289973715259737, 6.586201822372025, 15.531276371536089, 5.669749860722183, 16.069958421934768, 20.12573678235815, 5.626627615289104, 6.416436823858567, 14.343171489794264, 4.761534756745231, 5.547238482984917, 5.532508833757254, 35.569508144024056, 10.223530392476103, 22.866566967658493, 19.499373411737245, 10.91357282723516, 5.43040833363457, 101.16733937850321, 9.141628146127273, 29.604377811542967, 21.945570724591896, 28.494458626329234, 31.902747941397262, 82.24350507900905, 23.619992267391087, 32.823688144756055, 43.57399739685014, 25.757310222259715, 22.213358197218554, 63.52515544416803, 175.30239292056748, 50.03986268624483, 41.16101243435992, 86.65875331991812, 128.3923792638742, 39.9103417174387, 33.815786827705175, 65.01077528351227, 47.42060534620184, 40.20927959281344, 156.29426259717067, 38.83917469224594, 66.04762002987174, 93.49618556474631, 54.83909075025233, 32.98378789632151, 41.66456800174174, 29.989970407909517, 43.233051375569154, 57.37752089386374, 52.701149146647, 42.22418118531058, 42.527153601330426, 36.82910800278653, 37.09681062937638, 36.744421287419605, 37.176157676027266], \"Total\": [328.0, 485.0, 803.0, 307.0, 298.0, 123.0, 199.0, 172.0, 93.0, 107.0, 120.0, 273.0, 167.0, 178.0, 282.0, 122.0, 153.0, 124.0, 117.0, 297.0, 86.0, 147.0, 105.0, 237.0, 97.0, 97.0, 127.0, 230.0, 142.0, 95.0, 36.026039124999826, 36.02588883819035, 33.10322172299764, 33.10319945151618, 35.050562559486096, 32.128537874832695, 27.257595896582213, 26.283381057698193, 24.334723323645914, 26.284575607309353, 22.386171312703546, 32.134917729304696, 20.43764235373041, 53.48541765786132, 21.413009212119363, 18.488977697815788, 24.31987835813562, 17.51484102850204, 18.489977886518638, 16.540707205667303, 16.54068383919484, 16.540152118252475, 15.566432075823164, 15.56636855315957, 15.566439385894078, 15.566408536159054, 16.5411231027715, 15.566128130021548, 35.96189057796922, 29.21687336390235, 60.42030248595254, 97.50813665440415, 85.71452146351675, 82.76557482881309, 58.48806964583601, 32.1504364344932, 124.7730510913907, 55.495934070275894, 37.896391840765276, 53.448753785668835, 29.186855354435643, 98.42108266493298, 34.10865925517124, 307.99715835781393, 167.83422712513695, 178.18542278378115, 139.82171036116077, 103.42674442190588, 54.56223811623196, 68.7695485643493, 84.83647160041036, 64.2620139704154, 237.75277971425626, 90.51973633420364, 137.70593095628726, 91.77444009129962, 147.7937685617617, 70.06214294099411, 129.8665751690667, 73.99592681862174, 191.48072080434142, 803.8548070648296, 274.85427260577234, 186.07372334983486, 163.15899799670467, 306.4340359076893, 190.15544412730645, 123.89985251249685, 254.84946828941247, 162.71698521260234, 213.5733828440321, 283.01536045192046, 121.95636925526732, 161.53017716157902, 163.20991301290178, 234.12184367687408, 302.34647433345026, 268.51376419796037, 38.38900181276886, 42.2197511465572, 26.870239511488503, 39.325305112537485, 23.031355908186363, 22.069023878838763, 56.67664066614097, 52.83541185825136, 86.46800449904792, 18.221477632163285, 14.390064081926624, 17.262361508112335, 11.511442662430964, 18.23745719845577, 16.292903446551144, 78.46760127905374, 16.284197226960185, 26.802268957257596, 31.64526338081067, 19.147274411366574, 40.18955772227332, 8.631750433563742, 12.45816909897064, 7.6718366477172095, 7.671950307157881, 20.18844642310028, 33.582287155475164, 27.758165731678805, 36.44648449277574, 18.1798388928744, 95.59958109020086, 96.93212392160403, 105.65758026062852, 117.78573708942233, 35.559443489422534, 85.01192732215921, 199.0011368393309, 101.02292341395628, 45.14381488359439, 54.9011896307498, 142.66262791524008, 37.27576952579079, 41.99097586369723, 120.33277045687889, 129.77818451581416, 84.83256378608144, 63.727084038072036, 62.84418723668015, 102.98876739202464, 59.70895018137999, 72.90815716856001, 282.94427412443633, 230.32157269786697, 209.32374748162187, 115.9403377508097, 128.99304695412943, 119.71572579817428, 485.5254739281197, 211.37539248235055, 138.5374085496048, 215.73422314818598, 114.91801537520553, 112.93575546782294, 99.90679935398619, 203.5790903421851, 253.44869724604655, 123.30539886857132, 172.8096418311655, 200.805382073953, 74.18132611605134, 49.441690528266975, 47.46260119923948, 44.493590360104996, 40.535513996171396, 38.556389850764795, 35.58752782843551, 40.5240890113041, 33.60786999510347, 30.63965223281026, 27.67089434123134, 27.67080987821847, 28.659135933770333, 26.681481371686985, 25.691806203590662, 25.691678325478716, 24.702282074756585, 24.70215427298782, 23.712487033002063, 23.711939322752983, 51.34436129166914, 22.722416271833254, 21.733411082028503, 21.73225191921755, 81.93116365784145, 20.74359979320199, 20.742911377657407, 20.74332961345867, 19.75425783489288, 19.7543127725496, 66.10674015267469, 42.436983762163045, 74.99667222533033, 62.1303832412947, 40.45277924173408, 61.207324272859495, 45.37927277280933, 38.47958552212632, 78.03996648950984, 47.29725623534735, 63.02723087036472, 34.52865293710655, 108.34119862739159, 64.00922906655565, 43.34070314169642, 171.40817645781527, 96.50766365165033, 132.04188079153852, 217.90548917781655, 392.8566393536839, 99.38191347480671, 110.41190710132194, 297.0893859119431, 803.8548070648296, 190.95279899715123, 148.12895827305653, 84.33186741272122, 80.65436811910897, 91.54281280787279, 111.05863796939248, 55.26520309710716, 262.8761488078904, 256.08998245885533, 148.46972078147343, 268.51376419796037, 105.84498183835277, 283.01536045192046, 298.7240339741692, 265.6177234105347, 234.12184367687408, 485.5254739281197, 302.34647433345026, 254.84946828941247, 282.94427412443633, 273.1049196397213, 193.4951872205606, 215.73422314818598, 328.08766300343257, 171.6826664515605, 28.587671191002887, 50.75235104005466, 19.380805810593994, 15.693304333758896, 16.63341486307521, 10.165631588135188, 9.24571212382063, 8.322226888959056, 20.348539793129643, 8.322341294361461, 93.52912134200902, 20.350673528278282, 7.401195317063839, 22.20297288052513, 21.26355699827258, 26.864176614307773, 44.46685073473467, 5.559156794388776, 20.429848324794325, 12.080566726948907, 17.616166085442213, 8.344571664079327, 5.563614525856894, 30.740062340111127, 12.097121988775973, 9.309062259927519, 5.575810965371224, 15.790102910241023, 24.23635962717947, 37.14065807513557, 59.642613248128484, 27.081082977874367, 68.97438698866307, 71.68275492289163, 20.467141713564452, 33.347601350252475, 120.9997516669565, 32.58028930812075, 39.89608051957488, 122.31078776847802, 52.49852760150619, 75.23212830270074, 89.45812584148685, 84.5614629460038, 57.493258352735744, 198.00621277778873, 57.797206402033424, 140.2199458281248, 57.24356765830154, 68.34216300022536, 74.7287103777943, 131.40907157119454, 82.98496450235837, 256.97786239275575, 171.6826664515605, 297.0893859119431, 117.36282478725464, 173.02514764709468, 153.03062002567145, 262.8761488078904, 306.4340359076893, 193.4951872205606, 99.64739691842247, 256.08998245885533, 217.960932031602, 25.719900356958085, 18.37920616005876, 23.884995096222156, 13.795801363596555, 12.877393873437672, 18.395872134442115, 11.965555537317094, 31.301788527830034, 40.52555344944812, 19.30574761946474, 19.30538173564195, 7.373665018594336, 17.51611079447862, 6.456504867903857, 18.386543136831953, 23.0759146893351, 6.459370956327403, 7.374057915469386, 16.593451639249725, 5.538818995171565, 6.462219526241349, 6.457204216744034, 41.58244844081569, 11.96305297031631, 26.87025406073877, 23.09135146214557, 12.931560935207841, 6.471692815484673, 123.04949327572965, 11.129093826135714, 36.08726596770414, 26.774612595552778, 35.19197255344368, 39.79154818535322, 107.51555928474944, 29.57370429691553, 42.54665994150665, 57.80855935459389, 33.29164203718916, 28.65897514261256, 97.16968285832564, 328.08766300343257, 79.9428522674792, 64.56516799991901, 172.8096418311655, 298.7240339741692, 62.79076549191264, 50.55168073966483, 127.86759220361662, 82.87435176840465, 65.84647973719703, 485.5254739281197, 64.87874739797836, 153.03062002567145, 273.1049196397213, 119.84296064796638, 52.25627453052492, 81.49566812100713, 44.580643004256004, 112.63804601931173, 253.44869724604655, 203.5790903421851, 114.38793137157589, 173.02514764709468, 93.38657624530407, 103.8905858999049, 128.42114372832097, 302.34647433345026], \"Category\": [\"Default\", \"Default\", \"Default\", \"Default\", \"Default\", \"Default\", \"Default\", \"Default\", \"Default\", \"Default\", \"Default\", \"Default\", \"Default\", \"Default\", \"Default\", \"Default\", \"Default\", \"Default\", \"Default\", \"Default\", \"Default\", \"Default\", \"Default\", \"Default\", \"Default\", \"Default\", \"Default\", \"Default\", \"Default\", \"Default\", \"Topic1\", \"Topic1\", \"Topic1\", \"Topic1\", \"Topic1\", \"Topic1\", \"Topic1\", \"Topic1\", \"Topic1\", \"Topic1\", \"Topic1\", \"Topic1\", \"Topic1\", \"Topic1\", \"Topic1\", \"Topic1\", \"Topic1\", \"Topic1\", \"Topic1\", \"Topic1\", \"Topic1\", \"Topic1\", \"Topic1\", \"Topic1\", \"Topic1\", \"Topic1\", \"Topic1\", \"Topic1\", \"Topic1\", \"Topic1\", \"Topic1\", \"Topic1\", \"Topic1\", \"Topic1\", \"Topic1\", \"Topic1\", \"Topic1\", \"Topic1\", \"Topic1\", \"Topic1\", \"Topic1\", \"Topic1\", \"Topic1\", \"Topic1\", \"Topic1\", \"Topic1\", \"Topic1\", \"Topic1\", \"Topic1\", \"Topic1\", \"Topic1\", \"Topic1\", \"Topic1\", \"Topic1\", \"Topic1\", \"Topic1\", \"Topic1\", \"Topic1\", \"Topic1\", \"Topic1\", \"Topic1\", \"Topic1\", \"Topic1\", \"Topic1\", \"Topic1\", \"Topic1\", \"Topic1\", \"Topic1\", \"Topic1\", \"Topic1\", \"Topic1\", \"Topic1\", \"Topic1\", \"Topic1\", \"Topic1\", \"Topic1\", \"Topic1\", \"Topic1\", \"Topic2\", \"Topic2\", \"Topic2\", \"Topic2\", \"Topic2\", \"Topic2\", \"Topic2\", \"Topic2\", \"Topic2\", \"Topic2\", \"Topic2\", \"Topic2\", \"Topic2\", \"Topic2\", \"Topic2\", \"Topic2\", \"Topic2\", \"Topic2\", \"Topic2\", \"Topic2\", \"Topic2\", \"Topic2\", \"Topic2\", \"Topic2\", \"Topic2\", \"Topic2\", \"Topic2\", \"Topic2\", \"Topic2\", \"Topic2\", \"Topic2\", \"Topic2\", \"Topic2\", \"Topic2\", \"Topic2\", \"Topic2\", \"Topic2\", \"Topic2\", \"Topic2\", \"Topic2\", \"Topic2\", \"Topic2\", \"Topic2\", \"Topic2\", \"Topic2\", \"Topic2\", \"Topic2\", \"Topic2\", \"Topic2\", \"Topic2\", \"Topic2\", \"Topic2\", \"Topic2\", \"Topic2\", \"Topic2\", \"Topic2\", \"Topic2\", \"Topic2\", \"Topic2\", \"Topic2\", \"Topic2\", \"Topic2\", \"Topic2\", \"Topic2\", \"Topic2\", \"Topic2\", \"Topic2\", \"Topic2\", \"Topic2\", \"Topic3\", \"Topic3\", \"Topic3\", \"Topic3\", \"Topic3\", \"Topic3\", \"Topic3\", \"Topic3\", \"Topic3\", \"Topic3\", \"Topic3\", \"Topic3\", \"Topic3\", \"Topic3\", \"Topic3\", \"Topic3\", \"Topic3\", \"Topic3\", \"Topic3\", \"Topic3\", \"Topic3\", \"Topic3\", \"Topic3\", \"Topic3\", \"Topic3\", \"Topic3\", \"Topic3\", \"Topic3\", \"Topic3\", \"Topic3\", \"Topic3\", \"Topic3\", \"Topic3\", \"Topic3\", \"Topic3\", \"Topic3\", \"Topic3\", \"Topic3\", \"Topic3\", \"Topic3\", \"Topic3\", \"Topic3\", \"Topic3\", \"Topic3\", \"Topic3\", \"Topic3\", \"Topic3\", \"Topic3\", \"Topic3\", \"Topic3\", \"Topic3\", \"Topic3\", \"Topic3\", \"Topic3\", \"Topic3\", \"Topic3\", \"Topic3\", \"Topic3\", \"Topic3\", \"Topic3\", \"Topic3\", \"Topic3\", \"Topic3\", \"Topic3\", \"Topic3\", \"Topic3\", \"Topic3\", \"Topic3\", \"Topic3\", \"Topic3\", \"Topic3\", \"Topic3\", \"Topic3\", \"Topic3\", \"Topic3\", \"Topic3\", \"Topic3\", \"Topic3\", \"Topic3\", \"Topic4\", \"Topic4\", \"Topic4\", \"Topic4\", \"Topic4\", \"Topic4\", \"Topic4\", \"Topic4\", \"Topic4\", \"Topic4\", \"Topic4\", \"Topic4\", \"Topic4\", \"Topic4\", \"Topic4\", \"Topic4\", \"Topic4\", \"Topic4\", \"Topic4\", \"Topic4\", \"Topic4\", \"Topic4\", \"Topic4\", \"Topic4\", \"Topic4\", \"Topic4\", \"Topic4\", \"Topic4\", \"Topic4\", \"Topic4\", \"Topic4\", \"Topic4\", \"Topic4\", \"Topic4\", \"Topic4\", \"Topic4\", \"Topic4\", \"Topic4\", \"Topic4\", \"Topic4\", \"Topic4\", \"Topic4\", \"Topic4\", \"Topic4\", \"Topic4\", \"Topic4\", \"Topic4\", \"Topic4\", \"Topic4\", \"Topic4\", \"Topic4\", \"Topic4\", \"Topic4\", \"Topic4\", \"Topic4\", \"Topic4\", \"Topic4\", \"Topic4\", \"Topic4\", \"Topic4\", \"Topic4\", \"Topic4\", \"Topic4\", \"Topic4\", \"Topic4\", \"Topic5\", \"Topic5\", \"Topic5\", \"Topic5\", \"Topic5\", \"Topic5\", \"Topic5\", \"Topic5\", \"Topic5\", \"Topic5\", \"Topic5\", \"Topic5\", \"Topic5\", \"Topic5\", \"Topic5\", \"Topic5\", \"Topic5\", \"Topic5\", \"Topic5\", \"Topic5\", \"Topic5\", \"Topic5\", \"Topic5\", \"Topic5\", \"Topic5\", \"Topic5\", \"Topic5\", \"Topic5\", \"Topic5\", \"Topic5\", \"Topic5\", \"Topic5\", \"Topic5\", \"Topic5\", \"Topic5\", \"Topic5\", \"Topic5\", \"Topic5\", \"Topic5\", \"Topic5\", \"Topic5\", \"Topic5\", \"Topic5\", \"Topic5\", \"Topic5\", \"Topic5\", \"Topic5\", \"Topic5\", \"Topic5\", \"Topic5\", \"Topic5\", \"Topic5\", \"Topic5\", \"Topic5\", \"Topic5\", \"Topic5\", \"Topic5\", \"Topic5\", \"Topic5\", \"Topic5\", \"Topic5\", \"Topic5\", \"Topic5\", \"Topic5\", \"Topic5\", \"Topic5\", \"Topic5\", \"Topic5\"], \"logprob\": [30.0, 29.0, 28.0, 27.0, 26.0, 25.0, 24.0, 23.0, 22.0, 21.0, 20.0, 19.0, 18.0, 17.0, 16.0, 15.0, 14.0, 13.0, 12.0, 11.0, 10.0, 9.0, 8.0, 7.0, 6.0, 5.0, 4.0, 3.0, 2.0, 1.0, -6.6963, -6.6965, -6.7828, -6.7829, -6.726, -6.8147, -6.9821, -7.0195, -7.0991, -7.0234, -7.1856, -6.8254, -7.2798, -6.3188, -7.2344, -7.3841, -7.1105, -7.4407, -7.3869, -7.5003, -7.5004, -7.5014, -7.5641, -7.5641, -7.5641, -7.5642, -7.5042, -7.565, -6.7285, -6.9362, -6.2126, -5.7587, -5.8906, -5.9323, -6.2719, -6.8586, -5.5703, -6.3422, -6.7057, -6.3818, -6.9581, -5.8285, -6.8147, -4.8025, -5.3559, -5.3018, -5.5275, -5.82, -6.3911, -6.1939, -6.0132, -6.262, -5.1844, -5.9919, -5.6492, -5.9992, -5.6387, -6.2238, -5.7689, -6.1997, -5.5336, -4.5548, -5.2958, -5.5709, -5.6749, -5.2707, -5.5804, -5.8544, -5.4282, -5.7196, -5.5976, -5.4516, -5.9235, -5.8542, -5.8616, -5.7851, -5.8054, -5.8271, -6.5177, -6.4254, -6.883, -6.5073, -7.0434, -7.0902, -6.1517, -6.2254, -5.7345, -7.2989, -7.5353, -7.3547, -7.7713, -7.3118, -7.4284, -5.8681, -7.4414, -6.9436, -6.7812, -7.286, -6.5457, -8.0842, -7.7185, -8.2122, -8.2128, -7.2457, -6.7381, -6.9297, -6.6602, -7.3561, -5.7021, -5.6999, -5.6231, -5.5183, -6.6978, -5.8646, -5.0665, -5.713, -6.4748, -6.2919, -5.4358, -6.6632, -6.5738, -5.6621, -5.6104, -5.9888, -6.2278, -6.2394, -5.8598, -6.2988, -6.1566, -5.1711, -5.329, -5.4161, -5.8465, -5.7738, -5.8323, -5.0126, -5.5358, -5.8129, -5.6213, -5.9382, -5.9481, -6.008, -5.6832, -5.587, -5.967, -5.9281, -5.9615, -6.2979, -6.7089, -6.7502, -6.816, -6.9108, -6.9618, -7.0437, -6.9148, -7.1024, -7.1969, -7.3015, -7.302, -7.2669, -7.3389, -7.3778, -7.3781, -7.4183, -7.4186, -7.4608, -7.4612, -6.6898, -7.5051, -7.5508, -7.5517, -6.2256, -7.5993, -7.5997, -7.6, -7.6499, -7.65, -6.4474, -6.8889, -6.332, -6.5165, -6.9397, -6.5338, -6.8279, -6.9901, -6.3248, -6.8014, -6.5332, -7.1028, -6.0289, -6.5257, -6.8927, -5.6314, -6.165, -5.8833, -5.443, -4.9316, -6.1617, -6.0721, -5.2691, -4.4395, -5.647, -5.8666, -6.3307, -6.387, -6.2917, -6.1661, -6.6821, -5.5926, -5.6659, -6.0212, -5.6523, -6.2525, -5.7298, -5.7608, -5.8204, -5.8885, -5.5912, -5.81, -5.9049, -5.9373, -5.9937, -6.0892, -6.0769, -6.0281, -6.1652, -6.3178, -5.7528, -6.7254, -6.9434, -6.9042, -7.4055, -7.5116, -7.6223, -6.7302, -7.6259, -5.2073, -6.7382, -7.753, -6.6708, -6.7209, -6.5015, -5.9992, -8.0803, -6.788, -7.3172, -6.9486, -7.6958, -8.1037, -6.4055, -7.3393, -7.6175, -8.1304, -7.0897, -6.6768, -6.252, -5.797, -6.5776, -5.6732, -5.6369, -6.8515, -6.4, -5.2171, -6.4268, -6.2888, -5.4385, -6.1369, -5.8677, -5.745, -5.8057, -6.0921, -5.4287, -6.1744, -5.6994, -6.2037, -6.1201, -6.0869, -5.848, -6.0815, -5.6093, -5.7897, -5.6236, -5.9635, -5.8888, -6.0054, -5.8818, -5.8844, -5.999, -6.115, -6.0156, -6.0924, -6.4228, -6.7691, -6.5188, -7.0734, -7.1458, -6.7893, -7.2356, -6.2874, -6.0333, -6.7872, -6.7873, -7.7525, -6.8946, -7.9023, -6.8605, -6.6355, -7.91, -7.7786, -6.9742, -8.0769, -7.9242, -7.9268, -6.066, -7.3128, -6.5078, -6.6671, -7.2475, -7.9454, -5.0207, -7.4246, -6.2495, -6.5489, -6.2878, -6.1748, -5.2278, -6.4754, -6.1463, -5.863, -6.3887, -6.5368, -5.486, -4.471, -5.7246, -5.92, -5.1755, -4.7824, -5.9508, -6.1165, -5.4629, -5.7784, -5.9434, -4.5857, -5.978, -5.4471, -5.0995, -5.6331, -6.1414, -5.9078, -6.2366, -5.8709, -5.5878, -5.6728, -5.8945, -5.8873, -6.0312, -6.0239, -6.0335, -6.0218], \"loglift\": [30.0, 29.0, 28.0, 27.0, 26.0, 25.0, 24.0, 23.0, 22.0, 21.0, 20.0, 19.0, 18.0, 17.0, 16.0, 15.0, 14.0, 13.0, 12.0, 11.0, 10.0, 9.0, 8.0, 7.0, 6.0, 5.0, 4.0, 3.0, 2.0, 1.0, 1.4528, 1.4527, 1.4509, 1.4508, 1.4506, 1.4489, 1.4459, 1.4449, 1.4424, 1.441, 1.4393, 1.438, 1.4362, 1.4352, 1.435, 1.432, 1.4315, 1.4296, 1.4293, 1.4272, 1.4271, 1.4262, 1.4242, 1.4241, 1.4241, 1.4241, 1.4233, 1.4232, 1.4224, 1.4224, 1.4195, 1.3947, 1.3918, 1.3851, 1.3926, 1.4044, 1.3365, 1.3749, 1.3928, 1.3728, 1.4015, 1.3156, 1.3891, 1.2008, 1.2545, 1.2488, 1.2655, 1.2745, 1.3429, 1.3087, 1.2794, 1.3084, 1.0777, 1.2359, 1.159, 1.2148, 1.0989, 1.2602, 1.098, 1.2296, 0.945, 0.4892, 0.8213, 0.9363, 0.9637, 0.7377, 0.9051, 1.0594, 0.7645, 0.9218, 0.7718, 0.6362, 1.0062, 0.7944, 0.7768, 0.4924, 0.2164, 0.3134, 1.5678, 1.5651, 1.5593, 1.5542, 1.5532, 1.549, 1.5443, 1.5408, 1.5391, 1.5319, 1.5316, 1.5301, 1.5188, 1.5181, 1.5142, 1.5026, 1.5018, 1.5013, 1.4976, 1.4952, 1.4941, 1.4937, 1.4925, 1.4836, 1.483, 1.4826, 1.4812, 1.4801, 1.4773, 1.4769, 1.4711, 1.4594, 1.4501, 1.4462, 1.4643, 1.426, 1.3736, 1.405, 1.4487, 1.4359, 1.337, 1.4518, 1.4221, 1.281, 1.2571, 1.3039, 1.3509, 1.3533, 1.2389, 1.345, 1.2876, 0.917, 0.9649, 0.9733, 1.1338, 1.0998, 1.1159, 0.5355, 0.8439, 0.9894, 0.738, 1.0509, 1.0585, 1.1211, 0.7341, 0.6112, 0.9517, 0.6531, 0.4695, 1.129, 1.1237, 1.1232, 1.122, 1.1204, 1.1194, 1.1176, 1.1166, 1.1162, 1.1142, 1.1115, 1.111, 1.111, 1.1105, 1.1093, 1.1091, 1.1082, 1.1078, 1.1065, 1.1062, 1.105, 1.1049, 1.1037, 1.1029, 1.1019, 1.1018, 1.1014, 1.1011, 1.1001, 1.1, 1.0947, 1.0965, 1.084, 1.0876, 1.0936, 1.0853, 1.0904, 1.0931, 1.0514, 1.0756, 1.0566, 1.0887, 1.0192, 1.0486, 1.0716, 0.9579, 0.9987, 0.967, 0.9063, 0.8283, 0.9727, 0.957, 0.7702, 0.6044, 0.8343, 0.8686, 0.9679, 0.9562, 0.9248, 0.8572, 1.0392, 0.5691, 0.5219, 0.7118, 0.4882, 0.8189, 0.358, 0.273, 0.3309, 0.389, -0.0431, 0.2118, 0.2878, 0.1509, 0.1298, 0.379, 0.2824, -0.0881, 0.4226, 2.0626, 2.0536, 2.0437, 2.0367, 2.0177, 2.0088, 1.9976, 1.9921, 1.9901, 1.9885, 1.9878, 1.9821, 1.9788, 1.9623, 1.9555, 1.941, 1.9394, 1.9376, 1.9284, 1.9246, 1.916, 1.916, 1.9135, 1.9023, 1.9011, 1.8848, 1.8845, 1.8842, 1.8687, 1.8667, 1.848, 1.8569, 1.8264, 1.8243, 1.863, 1.8264, 1.7205, 1.8228, 1.7583, 1.4883, 1.6357, 1.5451, 1.4946, 1.4902, 1.5896, 1.0163, 1.502, 1.0907, 1.4824, 1.3887, 1.3326, 1.007, 1.2332, 0.575, 0.798, 0.4157, 1.0046, 0.6911, 0.6973, 0.2799, 0.1239, 0.4691, 1.0167, 0.1722, 0.2566, 2.0633, 2.0531, 2.0414, 2.0356, 2.0321, 2.0319, 2.0157, 2.0023, 1.9982, 1.9858, 1.9856, 1.983, 1.9756, 1.966, 1.9612, 1.9591, 1.9579, 1.9568, 1.9502, 1.9447, 1.9432, 1.9413, 1.9397, 1.9388, 1.9346, 1.9268, 1.9262, 1.9205, 1.9001, 1.8992, 1.8979, 1.897, 1.8848, 1.8749, 1.8279, 1.8711, 1.8364, 1.8132, 1.8393, 1.8411, 1.6709, 1.4691, 1.6274, 1.6457, 1.4057, 1.2515, 1.6427, 1.6938, 1.4195, 1.5376, 1.6027, 0.9624, 1.5828, 1.2556, 1.024, 1.3141, 1.6358, 1.425, 1.6995, 1.1383, 0.6104, 0.7445, 1.0993, 0.6926, 1.1654, 1.0661, 0.8446, -0.0]}, \"token.table\": {\"Topic\": [1, 2, 3, 4, 5, 2, 3, 2, 3, 5, 1, 2, 3, 4, 5, 1, 2, 3, 4, 5, 5, 4, 1, 2, 3, 4, 5, 2, 5, 2, 3, 4, 5, 5, 2, 3, 5, 1, 2, 3, 4, 5, 2, 3, 3, 4, 5, 1, 2, 3, 4, 5, 1, 3, 4, 5, 4, 1, 2, 3, 4, 5, 1, 2, 3, 4, 2, 3, 5, 2, 4, 5, 1, 2, 4, 5, 1, 3, 4, 5, 1, 2, 2, 5, 3, 1, 5, 3, 4, 2, 3, 1, 3, 4, 1, 2, 3, 4, 5, 2, 5, 3, 2, 5, 1, 1, 2, 3, 4, 5, 1, 2, 5, 1, 2, 3, 5, 4, 3, 2, 3, 5, 3, 3, 4, 1, 3, 4, 3, 4, 3, 2, 4, 3, 4, 3, 1, 2, 3, 5, 2, 3, 4, 5, 2, 3, 4, 5, 1, 3, 4, 5, 4, 1, 2, 3, 4, 1, 1, 1, 2, 3, 4, 3, 4, 5, 1, 3, 4, 1, 2, 3, 4, 1, 2, 3, 4, 1, 1, 2, 1, 2, 3, 4, 5, 2, 3, 4, 2, 4, 5, 2, 3, 5, 2, 3, 4, 5, 2, 5, 2, 3, 5, 2, 5, 1, 2, 3, 4, 5, 1, 5, 2, 3, 4, 5, 2, 3, 4, 5, 5, 2, 3, 4, 3, 5, 3, 2, 4, 1, 2, 3, 4, 5, 1, 2, 3, 4, 5, 5, 3, 4, 3, 2, 5, 2, 3, 4, 5, 1, 2, 4, 2, 4, 1, 2, 4, 5, 1, 3, 4, 1, 2, 3, 4, 5, 1, 3, 4, 1, 3, 1, 1, 2, 3, 5, 1, 2, 3, 4, 5, 3, 5, 2, 1, 2, 4, 1, 1, 2, 4, 1, 4, 5, 1, 3, 4, 1, 4, 2, 3, 4, 5, 1, 2, 3, 4, 1, 2, 5, 1, 2, 5, 1, 2, 5, 1, 4, 1, 2, 3, 4, 3, 1, 2, 3, 4, 5, 1, 2, 3, 4, 5, 1, 3, 2, 3, 4, 5, 1, 3, 1, 3, 1, 1, 1, 5, 3, 4, 5, 1, 1, 2, 3, 4, 5, 1, 2, 3, 4, 5, 1, 2, 3, 4, 5, 1, 2, 3, 4, 1, 2, 4, 5, 2, 3, 4, 5, 2, 4, 2, 3, 4, 5, 2, 3, 4, 5, 2, 3, 4, 5, 2, 3, 4, 5, 2, 2, 4, 1, 2, 3, 4, 5, 1, 2, 3, 4, 5, 1, 3, 4, 5, 3, 2, 3, 4, 5, 3, 1, 3, 4, 5, 1, 2, 3, 4, 5, 2, 3, 4, 5, 2, 3, 5, 1, 2, 3, 1, 3, 4, 1, 3, 4, 5, 1, 2, 3, 4, 5, 1, 2, 3, 4, 5, 1, 2, 3, 4, 5, 1, 1, 2, 3, 4, 5, 1, 3, 4, 5, 1, 2, 3, 4, 5, 1, 2, 3, 4, 5, 1, 2, 3, 5, 2, 3, 2, 3, 5, 1, 2, 4, 1, 2, 3, 4, 5, 2, 4, 2, 3, 2, 4, 3, 4, 3, 4, 5, 2, 4, 5, 1, 2, 3, 4, 1, 2, 3, 4, 2, 3, 4, 1, 2, 3, 4, 5, 2, 3, 5, 1, 2, 3, 4, 5, 2, 4, 2, 1, 3, 4, 5, 3, 1, 3, 2, 4, 1, 2, 3, 4, 5, 1, 3, 1, 4, 2, 4, 1, 2, 3, 4, 5, 2, 3, 4, 5, 2, 3, 4, 5, 1, 2, 3, 4, 5, 3, 1, 1, 3, 4, 1, 2, 3, 4, 5, 2, 5, 2, 5, 1, 2, 3, 4, 5, 1, 2, 3, 4, 1, 1, 2, 3, 4, 5, 1, 2, 4, 5, 3, 2, 3, 4, 5, 2, 3, 4, 5, 1, 2, 4, 5, 3, 3, 1, 2, 3, 4, 5, 3, 4, 2, 3, 4, 5, 5, 2, 5, 1, 2, 3, 4, 5, 1, 2, 4, 5, 4, 2, 3, 4, 5, 1, 2, 4, 5, 4, 1, 2, 3, 4, 5, 2, 3, 4, 2, 3, 4, 5, 4, 5, 3, 5, 1, 2, 3, 1, 2, 3, 4, 5, 3, 1, 4, 4, 5, 3, 4, 1, 2, 5, 5, 3, 3, 1, 2, 3, 4, 5, 1, 3, 4, 5, 2, 3, 4, 5, 1, 2, 3, 4, 5, 3, 1, 3, 5, 1, 2, 3, 4, 5, 2, 3, 4, 5, 1, 3, 4, 1, 2, 1, 2, 3, 4, 5, 1, 2, 3, 4, 5, 2, 3, 4, 5, 1, 2, 4, 5, 5, 1, 2, 3, 4, 5, 2, 3, 4, 5, 1, 2, 3, 4, 5, 2, 3, 5, 1, 3, 2, 1, 2, 3, 4, 5, 1, 3, 4, 5, 3, 3, 4, 3, 4, 5, 1, 3, 1, 1, 2, 3, 4, 5, 2, 3, 4, 5, 2, 3, 5, 2, 4, 1, 2, 3, 4, 5, 1, 2, 3, 4, 5, 1, 1, 3, 5, 1, 3, 4, 5, 1, 1, 2, 3, 4, 5, 2, 2, 4, 5, 3, 4, 5, 2, 4, 4, 5, 1, 2, 3, 4, 5, 1, 3, 4, 5, 2, 5, 3, 5, 1, 3, 3, 2, 3, 4, 5, 4, 2, 4, 5, 2, 3, 4, 5, 1, 2, 3, 4, 5, 1, 2, 3, 4, 5, 2, 4, 1, 2, 3, 5, 2, 3, 5, 5, 1, 1, 2, 3, 4, 5, 1, 3, 1, 2, 4, 5, 1, 2, 3, 4, 5, 1, 2, 3, 4, 5, 1, 3, 4, 2, 3, 5, 1, 1, 3, 4, 1, 2, 3, 4, 5, 1, 2, 3, 4, 5, 3, 3, 1, 1, 3, 4, 2, 5, 1, 2, 3, 4, 5], \"Freq\": [0.003534264840999076, 0.5124684019448661, 0.371097808304903, 0.02120558904599446, 0.09542515070697506, 0.7845957610445323, 0.20399489787157843, 0.7166073431137223, 0.19263638255745222, 0.09246546362757707, 0.00870185581203274, 0.5830243394061936, 0.2175463953008185, 0.05221113487219644, 0.14793154880455658, 0.017484361995351, 0.17484361995351003, 0.39339814489539754, 0.04371090498837751, 0.367171601902371, 0.929194710063766, 0.9794431946877912, 0.015641179798046058, 0.21897651717264482, 0.08602648888925332, 0.17987356767752968, 0.5083383434364969, 0.07733018504188238, 0.8506320354607062, 0.28156351428108384, 0.31200281312228206, 0.33483228725318076, 0.06848842239269606, 0.929295357589955, 0.15413367860908492, 0.23120051791362736, 0.6011213465754311, 0.010035385077029777, 0.3713092478501018, 0.20070770154059556, 0.34120309261901244, 0.07024769553920845, 0.952773477138351, 0.03528790656067967, 0.9730777290328764, 0.08359070234674046, 0.8359070234674045, 0.03804072771664039, 0.15216291086656156, 0.5668068429779418, 0.16357512918155367, 0.08368960097660887, 0.9700272268753709, 0.3979431088764666, 0.5536599775672579, 0.03460374859795362, 0.8967305439608124, 0.06005597255439057, 0.630587711821101, 0.18016791766317172, 0.06005597255439057, 0.06005597255439057, 0.20872012378176502, 0.052180030945441255, 0.13914674918784334, 0.6087670276968147, 0.9329649517552178, 0.08985457536997186, 0.8086911783297468, 0.1352552916550664, 0.0338138229137666, 0.8115317499303983, 0.10859057916849096, 0.6264841105874479, 0.10859057916849096, 0.1587093080154868, 0.6618248394745205, 0.29055724659857, 0.024213103883214168, 0.03228413851095222, 0.9715235662110071, 0.9555709325556456, 0.880095808014625, 0.05500598800091406, 0.9870672228767955, 0.9454452881525894, 0.0278072143574291, 0.9530041846640809, 0.030254101100447014, 0.8560834531293218, 0.1275017908916011, 0.840309798333744, 0.108929047932152, 0.031122585123472, 0.13292865408738866, 0.034677040196710085, 0.3409908952676492, 0.24851878807642228, 0.24851878807642228, 0.9662989235876276, 0.025428919041779675, 0.9618179614138377, 0.06389411257512728, 0.9264646323393456, 0.9735003530276859, 0.10987764301333916, 0.539833637413362, 0.12898679832000684, 0.14809595362667452, 0.0716593324000038, 0.04333522694388214, 0.04333522694388214, 0.8667045388776428, 0.600641099806088, 0.09193486221521754, 0.300320549903044, 0.0061289908143478365, 0.9558216473080507, 0.9715751806410003, 0.1214947257914041, 0.27336313303065923, 0.6074736289570205, 0.9791233846928167, 0.1626541919362264, 0.8132709596811319, 0.09789597887384878, 0.04894798943692439, 0.8321158204277146, 0.18463072559118376, 0.7754490474829718, 0.9770008441533772, 0.11167288106653564, 0.85615875484344, 0.9557279880019944, 0.02896145418187862, 0.9699530870797967, 0.06424803731573571, 0.08719376492849845, 0.7939221754015912, 0.055069746270630604, 0.09401443040415439, 0.04700721520207719, 0.0705108228031158, 0.7756190508342737, 0.10467924917312724, 0.03489308305770908, 0.06978616611541816, 0.7676478272695997, 0.15436913612108982, 0.12349530889687187, 0.07203893018984192, 0.6586416474499832, 0.8853360385895104, 0.9182561730187151, 0.0483292722641429, 0.02416463613207145, 0.8986963379224969, 0.9636119521118194, 0.9666732823702413, 0.05024372377820735, 0.7871516725252485, 0.13398326340855293, 0.03349581585213823, 0.9699754915419408, 0.04186728931580012, 0.9629476542634027, 0.9673429775983496, 0.16532857995940295, 0.8266428997970148, 0.18181855497152993, 0.024793439314299535, 0.09917375725719814, 0.694216300800387, 0.097717601606995, 0.097717601606995, 0.0488588008034975, 0.78174081285596, 0.9672861933612698, 0.9250739647050296, 0.03426199869277887, 0.5857893206934461, 0.0537421395131602, 0.2955817673223811, 0.04836792556184418, 0.01612264185394806, 0.05402551399607104, 0.7563571959449945, 0.18908929898624863, 0.06026473706257869, 0.06026473706257869, 0.8437063188761016, 0.0266678499279398, 0.9467086724418629, 0.0266678499279398, 0.5485882895866887, 0.2021114751108853, 0.15158360633316398, 0.09383747058719674, 0.9327568512900258, 0.07462054810320207, 0.9515599835902206, 0.9889064839202644, 0.9284735647923443, 0.9268108550604939, 0.9493243837830907, 0.07762613232457265, 0.6382593102242641, 0.025875377441524218, 0.04312562906920703, 0.21562814534603514, 0.9535309292383172, 0.018696684887025826, 0.1568639720565051, 0.26546210655716246, 0.01206645938896193, 0.5671235912812107, 0.24564225481853633, 0.7274789854241268, 0.009447779031482166, 0.01889555806296433, 0.9720099865486715, 0.12666161907677342, 0.06333080953838671, 0.8233005239990273, 0.9615488186255141, 0.02598780590879768, 0.9662542120396845, 0.11983838598986159, 0.8388687019290311, 0.038096306532273486, 0.05714445979841022, 0.19048153266136741, 0.6285890577825125, 0.07619261306454697, 0.28444188141963506, 0.09922391212312852, 0.3968956484925141, 0.0959164483856909, 0.12237615828519184, 0.931865571398924, 0.9496159032346978, 0.0482855544017643, 0.9715701540193223, 0.05436002124235936, 0.9241203611201091, 0.26138559716538984, 0.058811759362212716, 0.24831631730712037, 0.4312862353228933, 0.3345434421872316, 0.18734432762484968, 0.46836081906212423, 0.11353208128826486, 0.8514906096619865, 0.010050193841931444, 0.8090406042754812, 0.055276066130622935, 0.12562742302414304, 0.8735860752508356, 0.10418916493817307, 0.01602910229818047, 0.7969226538374562, 0.016836394095157525, 0.1403032841263127, 0.016836394095157525, 0.028060656825262542, 0.813563468191446, 0.12845738971443885, 0.05709217320641726, 0.9088601157871682, 0.05863613650239795, 0.9862450326969338, 0.031085614203952377, 0.0725330998092222, 0.8703971977106665, 0.020723742802634917, 0.01182571782891864, 0.3429458170386405, 0.08278002480243048, 0.5439830201302573, 0.02365143565783728, 0.9640870350822451, 0.024720180386724234, 0.9676132581134446, 0.06138680909446354, 0.15346702273615886, 0.7673351136807943, 0.9827495596585377, 0.10410989890991248, 0.8707373363374499, 0.018929072529074997, 0.0746976260762853, 0.0746976260762853, 0.8216738868391383, 0.853475675389302, 0.121925096484186, 0.020320849414031, 0.01970352071396224, 0.9654725149841497, 0.32848581192234433, 0.22194987292050294, 0.07102395933456095, 0.38175378142326505, 0.06415114259503979, 0.010691857099173299, 0.021383714198346598, 0.898115996330557, 0.9648742846864278, 0.0570902988530546, 0.9134447816488735, 0.9735530159748338, 0.2325244845147369, 0.7626803092083371, 0.9457284144805729, 0.9211384381396424, 0.06140922920930949, 0.9807122292794976, 0.9457931726056652, 0.07646695338815274, 0.10923850484021819, 0.8083649358176146, 0.01092385048402182, 0.9682068903592457, 0.0202013863296753, 0.2222152496264283, 0.2676683688681977, 0.3434235676044801, 0.15151039747256476, 0.4797117251175145, 0.08158362672066573, 0.21864411961138414, 0.14032383795954503, 0.08158362672066573, 0.6901508838471434, 0.31124451624479016, 0.20504940033257157, 0.3661596434510207, 0.08787831442824497, 0.3405284684094492, 0.9331133050440937, 0.06220755366960625, 0.964682724914222, 0.03111879757787813, 0.9715195133875314, 0.9785864560033007, 0.9673118811500625, 0.9288830198121046, 0.27694430323886443, 0.05934520783689952, 0.6725790221515279, 0.9673105146627563, 0.2110469962265095, 0.29363060344557845, 0.2569267780148811, 0.1605792362593007, 0.07799562904023177, 0.31283312515060285, 0.08938089290017225, 0.5213885419176714, 0.04469044645008612, 0.03351783483756459, 0.3758726593724172, 0.06834048352225768, 0.4741121044356626, 0.06834048352225768, 0.01708512088056442, 0.8433965499384953, 0.04362395947957735, 0.014541319826525782, 0.0872479189591547, 0.012508935716405514, 0.2626876500445158, 0.08756255001483859, 0.6254467858202757, 0.05542121150961881, 0.08313181726442821, 0.027710605754809405, 0.8313181726442822, 0.9175761566094897, 0.07646467971745746, 0.8769022751296114, 0.0618989841267961, 0.03094949206339805, 0.020632994708932033, 0.12015027662293472, 0.03003756915573368, 0.06007513831146736, 0.7809767980490757, 0.08524671344989548, 0.08524671344989548, 0.028415571149965162, 0.7956359921990246, 0.12532559426600232, 0.025065118853200462, 0.7268884467428134, 0.12532559426600232, 0.9124281865520276, 0.9006358792457576, 0.07205087033966061, 0.07479259362041481, 0.7396156480241021, 0.13296461088073744, 0.01662057636009218, 0.03324115272018436, 0.12251457564025975, 0.011668054822881881, 0.8342659198360545, 0.023336109645763763, 0.005834027411440941, 0.015925908725046498, 0.2707404483257905, 0.07962954362523249, 0.6370363490018599, 0.9641528085474499, 0.007573354711440022, 0.8406423729698425, 0.05301348298008016, 0.09845361124872029, 0.9840751550571738, 0.784359332840567, 0.15466240365870335, 0.01104731454705024, 0.04418925818820096, 0.5901377408928051, 0.01044491576801425, 0.2872351836203919, 0.0626694946080855, 0.047002120956064125, 0.1463225563985592, 0.33654187971668614, 0.49749669175510125, 0.01463225563985592, 0.9268720268939394, 0.9738167686217324, 0.01947633537243465, 0.03618913688755971, 0.05428370533133957, 0.9047284221889929, 0.016337913997711204, 0.9475990118672499, 0.016337913997711204, 0.4962933838068827, 0.44114967449500686, 0.049016630499445206, 0.01838123643729195, 0.6231736846882029, 0.008199653745897408, 0.20499134364743518, 0.10659549869666629, 0.057397576221281846, 0.08435262992491929, 0.4097127739210366, 0.0361511271106797, 0.4217631496245965, 0.0482015028142396, 0.5076450818101635, 0.04333555576428226, 0.2662041282663053, 0.14857904833468202, 0.037144762083670506, 0.9636134092945493, 0.6729679467566957, 0.008412099334458696, 0.2018903840270087, 0.05047259600675218, 0.06729679467566957, 0.8043651304768973, 0.17874780677264385, 0.005958260225754795, 0.01191652045150959, 0.015573759444403205, 0.4672127833320961, 0.18688511333283844, 0.03893439861100801, 0.2881145497214593, 0.685318757995546, 0.12320337222391838, 0.10780295069592859, 0.04620126458396939, 0.03850105381997449, 0.9216641317145462, 0.023333269157330284, 0.04666653831466057, 0.011666634578665142, 0.9463350098252608, 0.03785340039301043, 0.8933280768254309, 0.0595552051216954, 0.0297776025608477, 0.03160030580141699, 0.9164088682410927, 0.03160030580141699, 0.4310720089721976, 0.02120026273633759, 0.4593390259539811, 0.08126767382262742, 0.0035333771227229315, 0.8573270627683447, 0.1428878437947241, 0.8915990672468889, 0.04953328151371605, 0.971109466222975, 0.9612811699009854, 0.9475691736022055, 0.04407298481870723, 0.045039013711408386, 0.9007802742281678, 0.045039013711408386, 0.8314944485995288, 0.05939246061425205, 0.09898743435708676, 0.030186579178317987, 0.08049754447551463, 0.8452242169929036, 0.030186579178317987, 0.049921571133541016, 0.07131653019077289, 0.5134790173735647, 0.370845956992019, 0.04126032190406047, 0.12378096571218142, 0.7839461161771489, 0.17054687754266507, 0.15504261594787733, 0.465127847843632, 0.19638731353397795, 0.010336174396525155, 0.5271464234042352, 0.42982708369883793, 0.03243977990179909, 0.0077523558332225845, 0.6124361108245842, 0.16279947249767426, 0.031009423332890338, 0.18605653999734204, 0.920637152956136, 0.07464625564509211, 0.9552194880623692, 0.031245494269590966, 0.906119333818138, 0.015622747134795483, 0.031245494269590966, 0.9855694515768115, 0.9229998960905687, 0.07178888080704422, 0.13493197518737665, 0.8545691761867188, 0.11454560135227107, 0.12981834819924054, 0.7330918486545348, 0.010181831231312983, 0.01272728903914123, 0.759747269252893, 0.23701517374128714, 0.20119842754167963, 0.7880271745382452, 0.04914357541948214, 0.8845843575506784, 0.023176665839269937, 0.4264506514425669, 0.4264506514425669, 0.11124799602849571, 0.013905999503561963, 0.148783014235244, 0.8307051628134458, 0.012398584519603668, 0.012398584519603668, 0.019136457946611965, 0.2105010374127316, 0.13395520562628374, 0.6315031122381948, 0.4904856221165325, 0.00784776995386452, 0.42770346248561636, 0.051010504700119384, 0.02354330986159356, 0.9663057504606769, 0.9538625526127232, 0.14491190687719255, 0.8332434645438571, 0.01811398835964907, 0.0770040897421421, 0.33689289262187166, 0.1251316458309809, 0.10588062339544539, 0.3561439150574072, 0.07402736655385157, 0.9130041874975028, 0.1759167541658159, 0.8041908761865869, 0.2409477770467996, 0.1468275516378935, 0.4442474639300367, 0.12423869753975604, 0.04141289917991868, 0.8980564858907935, 0.018709510122724864, 0.018709510122724864, 0.03741902024544973, 0.9892182418587584, 0.5679563921803653, 0.08414168773042449, 0.16828337546084898, 0.07362397676412143, 0.10517710966303061, 0.023526110547062964, 0.8469399796942667, 0.05881527636765741, 0.05881527636765741, 0.9910664355618171, 0.9124146689882812, 0.9302865219297191, 0.021142875498402706, 0.021142875498402706, 0.05928956814782645, 0.8419118676991356, 0.04743165451826117, 0.04743165451826117, 0.146214127503357, 0.026584386818792185, 0.584856510013428, 0.23925948136912964, 0.9641653665390159, 0.9730728856465539, 0.01346396131831379, 0.06731980659156896, 0.6900280175635818, 0.18849545845639307, 0.037025893625362925, 0.08277757348661754, 0.8277757348661755, 0.272658740602119, 0.2385763980268541, 0.3408234257526487, 0.15337054158869193, 0.8136632596027119, 0.8878548264764061, 0.052226754498612124, 0.047151704740253104, 0.7544272758440497, 0.011787926185063276, 0.10609133566556948, 0.08251548329544293, 0.015912370641915658, 0.7956185320957829, 0.06364948256766263, 0.12729896513532526, 0.8652659625199469, 0.5383777062110534, 0.21708778476252152, 0.09117686960025904, 0.15196144933376507, 0.010460296882017425, 0.8891252349714811, 0.010460296882017425, 0.0836823750561394, 0.8994169772377765, 0.008854591673448492, 0.5932576421210489, 0.07969132506103642, 0.15938265012207284, 0.15938265012207284, 0.8639057222027752, 0.08860571509772053, 0.044302857548860264, 0.32867644939762314, 0.4133355348485261, 0.1493983860898287, 0.10955881646587438, 0.05179902752991315, 0.8805834680085236, 0.9459929587657169, 0.04614599798857155, 0.11248769967926621, 0.8717796725143131, 0.9819128675755996, 0.0548635455255329, 0.7406578645946942, 0.1097270910510658, 0.0548635455255329, 0.041147659144149674, 0.9902533534287857, 0.0601199457977758, 0.901799186966637, 0.108775205057094, 0.870201640456752, 0.10742220559687031, 0.8593776447749625, 0.05487497704741403, 0.9054371212823314, 0.027437488523707015, 0.9793676529466848, 0.9867890167564676, 0.9641848068416465, 0.03883918704235076, 0.7088151635229014, 0.05825878056352614, 0.15535674816940304, 0.04854898380293845, 0.15488227336468083, 0.13939404602821276, 0.06195290934587234, 0.6350173207951915, 0.948327655704173, 0.0346949142330795, 0.05179804583127175, 0.8805667791316197, 0.49631652871935567, 0.018728925612051157, 0.28093388418076737, 0.10300909086628136, 0.09832685946326858, 0.9618152865536388, 0.8218377217140456, 0.16436754434280912, 0.009668679078988772, 0.37320172419620234, 0.017416080462489443, 0.5859267069880377, 0.0037320172419620236, 0.019904091957130794, 0.8659792137868282, 0.05093995375216637, 0.008489992292027728, 0.07640993062824955, 0.9235707754728877, 0.026387736442082504, 0.05277547288416501, 0.054832205450476595, 0.9321474926581022, 0.174740995232995, 0.04077289888769883, 0.48927478665238594, 0.27376089253169217, 0.017474099523299497, 0.011178414376486331, 0.10060572938837699, 0.2571035306591856, 0.5477423044478302, 0.08942731501189065, 0.058409771939481735, 0.33377012536846706, 0.14185230328159848, 0.45893392238164216, 0.13497649940935366, 0.2699529988187073, 0.07362354513237472, 0.5153648159266231, 0.9027195155427037, 0.009824191652680577, 0.42735233689160507, 0.2161322163589727, 0.08841772487412519, 0.2603410787960353, 0.41761890807043167, 0.11778994843012176, 0.06424906278006641, 0.39620255381040953, 0.01625362239825234, 0.048760867194757015, 0.07314130079213553, 0.04063405599563085, 0.8208079311117431, 0.8852935947349813, 0.026827078628332765, 0.10730831451333106, 0.9433915034313549, 0.04965218439112395, 0.9728935132112073, 0.34535713520245914, 0.4730919660307659, 0.10881115218707617, 0.05204011626338425, 0.014192758980922978, 0.783826927962794, 0.16217108854402634, 0.040542772136006586, 0.013514257378668862, 0.9834906253879748, 0.9642240689991601, 0.02441073592402937, 0.9661384095953525, 0.02356435145354518, 0.02356435145354518, 0.0768836824245244, 0.9097902420235386, 0.9636114995952528, 0.008238496669676668, 0.3480764842938392, 0.30688400094545587, 0.01441736917193417, 0.32130137011739, 0.12191863489722717, 0.2926047237533452, 0.048767453958890865, 0.5333940276753688, 0.05189542921487107, 0.19028324045452727, 0.7611329618181091, 0.04913842279521854, 0.8844916103139336, 0.11160285355390587, 0.013950356694238233, 0.055801426776952934, 0.7672696181831029, 0.055801426776952934, 0.014498135375445444, 0.11598508300356355, 0.10148694762811811, 0.7684011748986085, 0.014498135375445444, 0.9636307676968374, 0.8797293083496197, 0.09163846961975206, 0.018327693923950412, 0.7736358830341796, 0.07627396029914447, 0.02179256008546985, 0.14165164055555401, 0.9636158843839906, 0.0210286326828522, 0.7780594092655314, 0.0841145307314088, 0.056076353820939194, 0.06308589804855659, 0.9898668422100136, 0.3934965623413293, 0.1041608547374107, 0.5034441312308183, 0.08996149283694393, 0.7796662712535142, 0.14993582139490655, 0.4367302916762643, 0.5415455616785677, 0.9612679553793531, 0.9193054150886846, 0.8081720621791849, 0.01430393030405637, 0.10012751212839459, 0.050063756064197294, 0.02860786060811274, 0.06729378039059682, 0.1121563006509947, 0.15701882091139258, 0.6729378039059682, 0.12991877088346263, 0.8228188822619299, 0.11164762317537678, 0.855965111011222, 0.9583503221324905, 0.034226797219017516, 0.975754511836227, 0.02692467101624854, 0.10769868406499417, 0.8077401304874563, 0.05384934203249708, 0.980351394347812, 0.04702882025247415, 0.8935475847970089, 0.04702882025247415, 0.11046985259596999, 0.4217939826391581, 0.036823284198656665, 0.42848912522073207, 0.024527681120644053, 0.08175893706881351, 0.34338753568901675, 0.5477848783610505, 0.7725953846320723, 0.24857101529640122, 0.3748293087802876, 0.07891143342742896, 0.07102029008468606, 0.22489758526817255, 0.8829547835330698, 0.08026861668482453, 0.8251168239257772, 0.02357476639787935, 0.1414485983872761, 0.011787383198939676, 0.09619443178516054, 0.04809721589258027, 0.8657498860664449, 0.942315684125718, 0.9666739327377718, 0.03375437225976536, 0.16202098684687374, 0.7628488130706972, 0.03375437225976536, 0.013501748903906145, 0.9232652116403788, 0.0683900156770651, 0.5776901524888857, 0.3011363560846319, 0.03072819960047264, 0.09218459880141792, 0.520275703354654, 0.0945955824281189, 0.23648895607029724, 0.10551045732367108, 0.04729779121405945, 0.11521171784618989, 0.05236896265735904, 0.7384023734687625, 0.06284275518883085, 0.03142137759441543, 0.7261851345512746, 0.24690294574743338, 0.02178555403653824, 0.0830708919046845, 0.886089513649968, 0.0276902973015615, 0.9706054409706468, 0.900966905731936, 0.07207735245855489, 0.01801933811463872, 0.2840711620848858, 0.22570037535511475, 0.1673295886253437, 0.21791760379114528, 0.1050674161135879, 0.1093365688542644, 0.1796243631177201, 0.5388730893531603, 0.14838534344507312, 0.02342926475448523, 0.9744586381020757, 0.9757574902516132, 0.9511281587155574, 0.01586615794777362, 0.9202371609708699, 0.06346463179109448, 0.9206462217865273, 0.06137641478576849, 0.06735380081113371, 0.2087967825145145, 0.653331867867997, 0.060618420730020335, 0.01347076016222674], \"Term\": [\"000\", \"000\", \"000\", \"000\", \"000\", \"1959\", \"1959\", \"1960\", \"1960\", \"1960\", \"1961\", \"1961\", \"1961\", \"1961\", \"1961\", \"30\", \"30\", \"30\", \"30\", \"30\", \"62\", \"academic\", \"act\", \"act\", \"act\", \"act\", \"act\", \"adjustments\", \"adjustments\", \"administration\", \"administration\", \"administration\", \"administration\", \"adopting\", \"agreement\", \"agreement\", \"agreement\", \"aid\", \"aid\", \"aid\", \"aid\", \"aid\", \"aircraft\", \"aircraft\", \"alexander\", \"allocation\", \"allocation\", \"american\", \"american\", \"american\", \"american\", \"american\", \"anne\", \"anti\", \"anti\", \"anti\", \"appearances\", \"areas\", \"areas\", \"areas\", \"areas\", \"areas\", \"art\", \"art\", \"art\", \"art\", \"assessment\", \"assigned\", \"assigned\", \"authorized\", \"authorized\", \"authorized\", \"available\", \"available\", \"available\", \"available\", \"away\", \"away\", \"away\", \"away\", \"baby\", \"bankers\", \"banks\", \"banks\", \"baseball\", \"bed\", \"bed\", \"berlin\", \"berlin\", \"billion\", \"billion\", \"black\", \"black\", \"black\", \"board\", \"board\", \"board\", \"board\", \"board\", \"boats\", \"boats\", \"bombs\", \"bonds\", \"bonds\", \"bride\", \"business\", \"business\", \"business\", \"business\", \"business\", \"calendar\", \"calendar\", \"calendar\", \"came\", \"came\", \"came\", \"came\", \"campus\", \"captain\", \"cars\", \"cars\", \"cars\", \"castro\", \"catholic\", \"catholic\", \"cattle\", \"cattle\", \"cattle\", \"chamber\", \"chamber\", \"charter\", \"chemical\", \"chemical\", \"china\", \"china\", \"chinese\", \"city\", \"city\", \"city\", \"city\", \"claim\", \"claim\", \"claim\", \"claim\", \"claims\", \"claims\", \"claims\", \"claims\", \"class\", \"class\", \"class\", \"class\", \"classical\", \"clay\", \"clay\", \"clay\", \"clerical\", \"cloth\", \"clothes\", \"co\", \"co\", \"co\", \"co\", \"coach\", \"coal\", \"coal\", \"coat\", \"collective\", \"collective\", \"college\", \"college\", \"college\", \"college\", \"colleges\", \"colleges\", \"colleges\", \"colleges\", \"colored\", \"colors\", \"colors\", \"come\", \"come\", \"come\", \"come\", \"come\", \"committee\", \"committee\", \"committee\", \"commodities\", \"commodities\", \"commodities\", \"communist\", \"communist\", \"communist\", \"company\", \"company\", \"company\", \"company\", \"compared\", \"compared\", \"components\", \"congo\", \"connections\", \"conservation\", \"coordination\", \"cost\", \"cost\", \"cost\", \"cost\", \"cost\", \"couldn\", \"couldn\", \"countries\", \"countries\", \"countries\", \"countries\", \"county\", \"county\", \"county\", \"county\", \"cousin\", \"creative\", \"creative\", \"creative\", \"cuba\", \"cuba\", \"cuban\", \"curriculum\", \"curriculum\", \"daily\", \"daily\", \"daily\", \"daily\", \"daily\", \"day\", \"day\", \"day\", \"day\", \"day\", \"definition\", \"democratic\", \"democratic\", \"democrats\", \"denied\", \"denied\", \"department\", \"department\", \"department\", \"department\", \"design\", \"design\", \"design\", \"designer\", \"designer\", \"development\", \"development\", \"development\", \"development\", \"didn\", \"didn\", \"didn\", \"don\", \"don\", \"don\", \"don\", \"don\", \"door\", \"door\", \"door\", \"drill\", \"drill\", \"dry\", \"east\", \"east\", \"east\", \"east\", \"education\", \"education\", \"education\", \"education\", \"education\", \"eisenhower\", \"eisenhower\", \"electronic\", \"engineer\", \"engineer\", \"engineer\", \"entrance\", \"equipment\", \"equipment\", \"equipment\", \"exercise\", \"exercise\", \"exercise\", \"eyes\", \"eyes\", \"eyes\", \"faculty\", \"faculty\", \"federal\", \"federal\", \"federal\", \"federal\", \"feed\", \"feed\", \"feed\", \"feed\", \"fig\", \"filing\", \"filing\", \"fingers\", \"fiscal\", \"fiscal\", \"flowers\", \"forests\", \"forests\", \"frames\", \"fulfill\", \"game\", \"game\", \"game\", \"game\", \"gen\", \"general\", \"general\", \"general\", \"general\", \"general\", \"good\", \"good\", \"good\", \"good\", \"good\", \"got\", \"got\", \"government\", \"government\", \"government\", \"government\", \"guests\", \"guests\", \"hadn\", \"hadn\", \"hair\", \"ham\", \"handsome\", \"hated\", \"hearing\", \"hearing\", \"hearing\", \"hell\", \"high\", \"high\", \"high\", \"high\", \"high\", \"home\", \"home\", \"home\", \"home\", \"home\", \"house\", \"house\", \"house\", \"house\", \"house\", \"inch\", \"inch\", \"inch\", \"inch\", \"income\", \"income\", \"income\", \"income\", \"india\", \"india\", \"india\", \"india\", \"industrial\", \"industrial\", \"industry\", \"industry\", \"industry\", \"industry\", \"insurance\", \"insurance\", \"insurance\", \"insurance\", \"interference\", \"interference\", \"interference\", \"interference\", \"interior\", \"interior\", \"interior\", \"interior\", \"inventories\", \"investment\", \"investment\", \"island\", \"island\", \"island\", \"island\", \"island\", \"john\", \"john\", \"john\", \"john\", \"john\", \"junior\", \"junior\", \"junior\", \"junior\", \"katanga\", \"kennedy\", \"kennedy\", \"kennedy\", \"kennedy\", \"khrushchev\", \"knew\", \"knew\", \"knew\", \"knew\", \"know\", \"know\", \"know\", \"know\", \"know\", \"labor\", \"labor\", \"labor\", \"labor\", \"laboratory\", \"laos\", \"laos\", \"leaders\", \"leaders\", \"leaders\", \"league\", \"league\", \"league\", \"left\", \"left\", \"left\", \"left\", \"let\", \"let\", \"let\", \"let\", \"let\", \"level\", \"level\", \"level\", \"level\", \"level\", \"life\", \"life\", \"life\", \"life\", \"life\", \"liked\", \"little\", \"little\", \"little\", \"little\", \"little\", \"ll\", \"ll\", \"ll\", \"ll\", \"local\", \"local\", \"local\", \"local\", \"local\", \"look\", \"look\", \"look\", \"look\", \"look\", \"looked\", \"looked\", \"looked\", \"looked\", \"machine\", \"machine\", \"machinery\", \"machinery\", \"machinery\", \"machines\", \"machines\", \"machines\", \"man\", \"man\", \"man\", \"man\", \"man\", \"manufacturers\", \"manufacturers\", \"manufacturing\", \"manufacturing\", \"marketing\", \"mathematics\", \"mayor\", \"mayor\", \"meat\", \"meat\", \"meat\", \"medical\", \"medical\", \"medical\", \"meeting\", \"meeting\", \"meeting\", \"meeting\", \"members\", \"members\", \"members\", \"members\", \"membership\", \"membership\", \"membership\", \"men\", \"men\", \"men\", \"men\", \"men\", \"military\", \"military\", \"military\", \"million\", \"million\", \"million\", \"million\", \"million\", \"missile\", \"missile\", \"missiles\", \"monday\", \"monday\", \"monday\", \"monday\", \"moscow\", \"mother\", \"mother\", \"motors\", \"motors\", \"mr\", \"mr\", \"mr\", \"mr\", \"mr\", \"mrs\", \"mrs\", \"music\", \"music\", \"musical\", \"musical\", \"national\", \"national\", \"national\", \"national\", \"national\", \"nations\", \"nations\", \"nations\", \"nations\", \"officer\", \"officer\", \"officer\", \"officer\", \"old\", \"old\", \"old\", \"old\", \"old\", \"opposition\", \"pale\", \"party\", \"party\", \"party\", \"pay\", \"pay\", \"pay\", \"pay\", \"pay\", \"payment\", \"payment\", \"payments\", \"payments\", \"people\", \"people\", \"people\", \"people\", \"people\", \"pieces\", \"pieces\", \"pieces\", \"pieces\", \"pink\", \"place\", \"place\", \"place\", \"place\", \"place\", \"planning\", \"planning\", \"planning\", \"planning\", \"player\", \"polaris\", \"police\", \"police\", \"police\", \"political\", \"political\", \"political\", \"political\", \"pool\", \"pool\", \"pool\", \"pool\", \"pope\", \"premier\", \"president\", \"president\", \"president\", \"president\", \"president\", \"prestige\", \"prestige\", \"problem\", \"problem\", \"problem\", \"problem\", \"proceedings\", \"procurement\", \"procurement\", \"production\", \"production\", \"production\", \"production\", \"production\", \"products\", \"products\", \"products\", \"products\", \"professors\", \"program\", \"program\", \"program\", \"program\", \"property\", \"property\", \"property\", \"property\", \"prosperity\", \"provide\", \"provide\", \"provide\", \"provide\", \"provide\", \"providence\", \"providence\", \"providence\", \"public\", \"public\", \"public\", \"public\", \"puerto\", \"puerto\", \"race\", \"race\", \"radiation\", \"radiation\", \"railroad\", \"range\", \"range\", \"range\", \"range\", \"range\", \"rayburn\", \"recognition\", \"recognition\", \"recommendation\", \"recommendation\", \"recorded\", \"recorded\", \"recreation\", \"recreation\", \"recreation\", \"rehabilitation\", \"republican\", \"republicans\", \"research\", \"research\", \"research\", \"research\", \"research\", \"return\", \"return\", \"return\", \"return\", \"rhode\", \"rhode\", \"rico\", \"rico\", \"right\", \"right\", \"right\", \"right\", \"right\", \"robinson\", \"room\", \"room\", \"room\", \"said\", \"said\", \"said\", \"said\", \"said\", \"sales\", \"sales\", \"sales\", \"sales\", \"sat\", \"sat\", \"sat\", \"savings\", \"savings\", \"school\", \"school\", \"school\", \"school\", \"school\", \"schools\", \"schools\", \"schools\", \"schools\", \"schools\", \"secretary\", \"secretary\", \"secretary\", \"secretary\", \"section\", \"section\", \"section\", \"section\", \"sectors\", \"service\", \"service\", \"service\", \"service\", \"service\", \"services\", \"services\", \"services\", \"services\", \"shall\", \"shall\", \"shall\", \"shall\", \"shall\", \"shares\", \"shares\", \"shares\", \"shelter\", \"shelter\", \"shipments\", \"small\", \"small\", \"small\", \"small\", \"small\", \"son\", \"son\", \"son\", \"son\", \"southern\", \"soviet\", \"soviet\", \"speaker\", \"speaker\", \"speaker\", \"st\", \"st\", \"stared\", \"state\", \"state\", \"state\", \"state\", \"state\", \"states\", \"states\", \"states\", \"states\", \"stations\", \"stations\", \"stations\", \"stockholders\", \"stockholders\", \"student\", \"student\", \"student\", \"student\", \"student\", \"students\", \"students\", \"students\", \"students\", \"students\", \"studio\", \"sun\", \"sun\", \"sun\", \"sure\", \"sure\", \"sure\", \"sure\", \"sweet\", \"system\", \"system\", \"system\", \"system\", \"system\", \"systems\", \"tax\", \"tax\", \"tax\", \"teachers\", \"teachers\", \"teachers\", \"technical\", \"technical\", \"tends\", \"thereof\", \"thought\", \"thought\", \"thought\", \"thought\", \"thought\", \"title\", \"title\", \"title\", \"title\", \"tractor\", \"tractor\", \"treasury\", \"treasury\", \"trees\", \"trees\", \"troops\", \"trust\", \"trust\", \"trust\", \"trust\", \"trustees\", \"unions\", \"unions\", \"unions\", \"united\", \"united\", \"united\", \"united\", \"university\", \"university\", \"university\", \"university\", \"upstairs\", \"use\", \"use\", \"use\", \"use\", \"use\", \"utility\", \"utility\", \"ve\", \"ve\", \"ve\", \"ve\", \"vehicles\", \"vehicles\", \"vehicles\", \"vocational\", \"walls\", \"war\", \"war\", \"war\", \"war\", \"war\", \"wasn\", \"wasn\", \"water\", \"water\", \"water\", \"water\", \"way\", \"way\", \"way\", \"way\", \"way\", \"week\", \"week\", \"week\", \"week\", \"week\", \"went\", \"went\", \"went\", \"west\", \"west\", \"west\", \"windows\", \"woman\", \"woman\", \"woman\", \"work\", \"work\", \"work\", \"work\", \"work\", \"world\", \"world\", \"world\", \"world\", \"world\", \"yankees\", \"yards\", \"yellow\", \"yesterday\", \"yesterday\", \"yesterday\", \"yield\", \"yield\", \"york\", \"york\", \"york\", \"york\", \"york\"]}, \"R\": 30, \"lambda.step\": 0.01, \"plot.opts\": {\"xlab\": \"PC1\", \"ylab\": \"PC2\"}, \"topic.order\": [1, 2, 3, 4, 5]};\n",
       "\n",
       "function LDAvis_load_lib(url, callback){\n",
       "  var s = document.createElement('script');\n",
       "  s.src = url;\n",
       "  s.async = true;\n",
       "  s.onreadystatechange = s.onload = callback;\n",
       "  s.onerror = function(){console.warn(\"failed to load library \" + url);};\n",
       "  document.getElementsByTagName(\"head\")[0].appendChild(s);\n",
       "}\n",
       "\n",
       "if(typeof(LDAvis) !== \"undefined\"){\n",
       "   // already loaded: just create the visualization\n",
       "   !function(LDAvis){\n",
       "       new LDAvis(\"#\" + \"ldavis_el269224474638644642023587347\", ldavis_el269224474638644642023587347_data);\n",
       "   }(LDAvis);\n",
       "}else if(typeof define === \"function\" && define.amd){\n",
       "   // require.js is available: use it to load d3/LDAvis\n",
       "   require.config({paths: {d3: \"https://d3js.org/d3.v5\"}});\n",
       "   require([\"d3\"], function(d3){\n",
       "      window.d3 = d3;\n",
       "      LDAvis_load_lib(\"https://cdn.jsdelivr.net/gh/bmabey/pyLDAvis@3.3.1/pyLDAvis/js/ldavis.v3.0.0.js\", function(){\n",
       "        new LDAvis(\"#\" + \"ldavis_el269224474638644642023587347\", ldavis_el269224474638644642023587347_data);\n",
       "      });\n",
       "    });\n",
       "}else{\n",
       "    // require.js not available: dynamically load d3 & LDAvis\n",
       "    LDAvis_load_lib(\"https://d3js.org/d3.v5.js\", function(){\n",
       "         LDAvis_load_lib(\"https://cdn.jsdelivr.net/gh/bmabey/pyLDAvis@3.3.1/pyLDAvis/js/ldavis.v3.0.0.js\", function(){\n",
       "                 new LDAvis(\"#\" + \"ldavis_el269224474638644642023587347\", ldavis_el269224474638644642023587347_data);\n",
       "            })\n",
       "         });\n",
       "}\n",
       "</script>"
      ],
      "text/plain": [
       "<IPython.core.display.HTML object>"
      ]
     },
     "execution_count": 155,
     "metadata": {},
     "output_type": "execute_result"
    }
   ],
   "source": [
    "pyLDAvis.display(lda_display)"
   ]
  },
  {
   "cell_type": "markdown",
   "id": "a3d14c87",
   "metadata": {},
   "source": [
    "Q: What conclusions do you draw from the visualization above? Please address the principal component scatterplot and the salient terms graph.\n",
    "\n",
    "A: PCA scatter plot shows the four clusters (topics) with Topic 4 (which would correspond to the previously displayed Topic 3) having its top 30 Saliency ranking as mostly education-related words.  This type of visualizations helps us gained a more clear understanding of undiscovered topics in our dataset, and that Education topic is an example of that.\n"
   ]
  }
 ],
 "metadata": {
  "kernelspec": {
   "display_name": "Python 3",
   "language": "python",
   "name": "python3"
  },
  "language_info": {
   "codemirror_mode": {
    "name": "ipython",
    "version": 3
   },
   "file_extension": ".py",
   "mimetype": "text/x-python",
   "name": "python",
   "nbconvert_exporter": "python",
   "pygments_lexer": "ipython3",
   "version": "3.8.8"
  }
 },
 "nbformat": 4,
 "nbformat_minor": 5
}
